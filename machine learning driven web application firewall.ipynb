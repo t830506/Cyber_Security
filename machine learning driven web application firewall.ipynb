{
 "cells": [
  {
   "cell_type": "code",
   "execution_count": 1,
   "metadata": {
    "collapsed": false
   },
   "outputs": [
    {
     "name": "stderr",
     "output_type": "stream",
     "text": [
      "Using TensorFlow backend.\n"
     ]
    }
   ],
   "source": [
    "import os\n",
    "import math\n",
    "import time\n",
    "import random\n",
    "import itertools\n",
    "import operator\n",
    "import urllib.parse\n",
    "import numpy as np\n",
    "import pandas as pd\n",
    "import matplotlib.pyplot as plt\n",
    "from collections import Counter\n",
    "\n",
    "from sklearn.utils import shuffle\n",
    "from sklearn.model_selection import train_test_split, cross_val_score\n",
    "from sklearn.metrics import confusion_matrix, roc_curve, auc, precision_score, recall_score, f1_score\n",
    "from sklearn.preprocessing import StandardScaler, MinMaxScaler\n",
    "from sklearn.feature_extraction.text import TfidfVectorizer, CountVectorizer\n",
    "from sklearn.linear_model import LogisticRegression\n",
    "from sklearn.ensemble import RandomForestClassifier\n",
    "\n",
    "from keras.utils import np_utils\n",
    "from keras.models import Sequential\n",
    "from keras.layers.core import Dense, Dropout, Activation\n",
    "from keras.optimizers import  Adam\n"
   ]
  },
  {
   "cell_type": "code",
   "execution_count": 2,
   "metadata": {
    "collapsed": true
   },
   "outputs": [],
   "source": [
    "random.seed(9001)\n",
    "%matplotlib inline\n",
    "pd.options.mode.chained_assignment = None\n"
   ]
  },
  {
   "cell_type": "code",
   "execution_count": 3,
   "metadata": {
    "collapsed": true
   },
   "outputs": [],
   "source": [
    "# loading dataset\n",
    "def loadFile(path):\n",
    "    directory = str(os.getcwd())\n",
    "    filepath = directory + \"/\" + path\n",
    "    data = list(set(open(filepath,'r').readlines()))\n",
    "    \n",
    "    result = []\n",
    "    for d in data:\n",
    "        d = str(urllib.parse.unquote(d))\n",
    "        result.append(d)\n",
    "    \n",
    "    result = list(set(result))\n",
    "    return result\n",
    "\n",
    "# make dictionary and counts_matrix\n",
    "def dic(X, model):\n",
    "    t0 = time.time()\n",
    "\n",
    "    print (str(model))\n",
    "    counts_matrix = model.fit_transform(X) #sparse matrix\n",
    "    all_counts = np.log10(counts_matrix.sum(axis=0).getA1()) #calculate score of each word\n",
    "    ngrams_list = model.get_feature_names() #list the word and score\n",
    "    \n",
    "    _sorted_ngrams = sorted(zip(ngrams_list, all_counts), key=operator.itemgetter(1), reverse=True)\n",
    "    print('All NGrams: %d' % len(_sorted_ngrams))\n",
    "\n",
    "    for ngram, count in _sorted_ngrams[:10]:\n",
    "        print(ngram, count)\n",
    "    \n",
    "    t1 = time.time()\n",
    "    print(\"It cost %f sec\" % (t1 - t0))\n",
    "    return counts_matrix, all_counts, model\n",
    "\n",
    "# split and minmax\n",
    "def split(X, y):\n",
    "    X_train, X_val, y_train, y_val = train_test_split(X, y, test_size=0.2, random_state=9001) #splitting data\n",
    "\n",
    "    cw0 = df.label.value_counts()[0]/df.shape[0]\n",
    "    cw1 = df.label.value_counts()[1]/df.shape[0]\n",
    "    \n",
    "    print (\"size of train :\", X_train.shape[0])\n",
    "    print (\"size of val   :\", X_val.shape[0])\n",
    "    print (\"------------------------------------\")\n",
    "    print (\"class_weight :\", cw0, cw1)\n",
    "    return X_train, X_val, y_train, y_val, cw0, cw1\n",
    "\n",
    "# Evaluation\n",
    "def evaluation(model, X_val, y_val):\n",
    "    print (str(model))\n",
    "    predicted = model.predict(X_val)\n",
    "    \n",
    "    fpr, tpr, _ = roc_curve(y_val, (model.predict_proba(X_val)[:, 1]))\n",
    "    auc_ = auc(fpr, tpr)\n",
    "\n",
    "    print(\"------------------------------------\")\n",
    "    print(\"Baseline    : %.6f\" % (1 - sum(y_val)/y_val.shape[0]))\n",
    "    print(\"Accuracy    : %f\" % model.score(X_val, y_val))  #checking the accuracy\n",
    "    print(\"Precision   : %f\" % precision_score(y_val, predicted))\n",
    "    print(\"Recall      : %f\" % recall_score(y_val, predicted))\n",
    "    print(\"F1-Score    : %f\" % f1_score(y_val, predicted))\n",
    "    print(\"AUC         : %f\" % auc_)\n",
    "\n"
   ]
  },
  {
   "cell_type": "code",
   "execution_count": 4,
   "metadata": {
    "collapsed": false
   },
   "outputs": [
    {
     "name": "stdout",
     "output_type": "stream",
     "text": [
      "size of bad query   : 44532\n",
      "size of good query  : 1265974\n",
      "size of total query : 1310506\n"
     ]
    },
    {
     "data": {
      "text/html": [
       "<div>\n",
       "<table border=\"1\" class=\"dataframe\">\n",
       "  <thead>\n",
       "    <tr style=\"text-align: right;\">\n",
       "      <th></th>\n",
       "      <th>domain</th>\n",
       "      <th>label</th>\n",
       "    </tr>\n",
       "  </thead>\n",
       "  <tbody>\n",
       "    <tr>\n",
       "      <th>0</th>\n",
       "      <td>/film53/</td>\n",
       "      <td>0</td>\n",
       "    </tr>\n",
       "    <tr>\n",
       "      <th>1</th>\n",
       "      <td>/20061213155630/</td>\n",
       "      <td>0</td>\n",
       "    </tr>\n",
       "    <tr>\n",
       "      <th>2</th>\n",
       "      <td>/javascript/head.phtml</td>\n",
       "      <td>0</td>\n",
       "    </tr>\n",
       "    <tr>\n",
       "      <th>3</th>\n",
       "      <td>/computer_books/</td>\n",
       "      <td>0</td>\n",
       "    </tr>\n",
       "    <tr>\n",
       "      <th>4</th>\n",
       "      <td>/ar2006122300792/</td>\n",
       "      <td>0</td>\n",
       "    </tr>\n",
       "  </tbody>\n",
       "</table>\n",
       "</div>"
      ],
      "text/plain": [
       "                   domain  label\n",
       "0                /film53/      0\n",
       "1        /20061213155630/      0\n",
       "2  /javascript/head.phtml      0\n",
       "3        /computer_books/      0\n",
       "4       /ar2006122300792/      0"
      ]
     },
     "execution_count": 4,
     "metadata": {},
     "output_type": "execute_result"
    }
   ],
   "source": [
    "# loading dataset convert to dataframe\n",
    "badQueries = loadFile('badqueries.txt')\n",
    "validQueries = loadFile('goodqueries.txt')\n",
    "queries = badQueries + validQueries\n",
    "\n",
    "yBad = [1 for i in range(0, len(badQueries))]\n",
    "yGood = [0 for i in range(0, len(validQueries))]\n",
    "y = yBad + yGood\n",
    "\n",
    "df = pd.DataFrame(queries, columns=[\"domain\"])\n",
    "con = pd.DataFrame(df.domain.str.split(\"\\n\",2).tolist(), columns = ['domain','b','c'])\n",
    "df = pd.concat([con[[\"domain\"]], pd.DataFrame(y, columns=[\"label\"])], axis=1)\n",
    "df = shuffle(df).reset_index(drop=True)\n",
    "\n",
    "del con\n",
    "print (\"size of bad query   :\", len(yBad))\n",
    "print (\"size of good query  :\", len(yGood))\n",
    "print (\"size of total query :\", len(y))\n",
    "df.head()"
   ]
  },
  {
   "cell_type": "code",
   "execution_count": 5,
   "metadata": {
    "collapsed": false
   },
   "outputs": [
    {
     "name": "stdout",
     "output_type": "stream",
     "text": [
      "size of hold_out : 131051\n",
      "size of training : 1179455\n",
      "0    1139396\n",
      "1      40059\n",
      "Name: label, dtype: int64\n",
      "0    126578\n",
      "1      4473\n",
      "Name: label, dtype: int64\n"
     ]
    }
   ],
   "source": [
    "# hold out\n",
    "train = df[df.index % 10 != 1].reset_index(drop = True)\n",
    "test = df[df.index % 10 == 1].reset_index(drop = True)\n",
    "\n",
    "print (\"size of hold_out :\", test.shape[0])\n",
    "print (\"size of training :\", train.shape[0])\n",
    "print (train.label.value_counts())\n",
    "print (test.label.value_counts())"
   ]
  },
  {
   "cell_type": "markdown",
   "metadata": {},
   "source": [
    "### TfidfVectorizer matrix"
   ]
  },
  {
   "cell_type": "code",
   "execution_count": 6,
   "metadata": {
    "collapsed": false
   },
   "outputs": [
    {
     "name": "stdout",
     "output_type": "stream",
     "text": [
      "TfidfVectorizer(analyzer='char', binary=False, decode_error='ignore',\n",
      "        dtype=<class 'numpy.int64'>, encoding='utf-8', input='content',\n",
      "        lowercase=True, max_df=1.0, max_features=None, min_df=0.0,\n",
      "        ngram_range=(1, 3), norm='l2', preprocessor=None, smooth_idf=True,\n",
      "        stop_words=None, strip_accents=None, sublinear_tf=True,\n",
      "        token_pattern='(?u)\\\\b\\\\w\\\\w+\\\\b', tokenizer=None, use_idf=True,\n",
      "        vocabulary=None)\n",
      "All NGrams: 94073\n",
      "/ 4.80821138294\n",
      "a 4.64846321395\n",
      "s 4.5985591916\n",
      "e 4.59722185318\n",
      "t 4.58849169492\n",
      "r 4.57501559799\n",
      "i 4.57168821775\n",
      "0 4.55431157933\n",
      "1 4.52062609322\n",
      "c 4.51826557797\n",
      "It cost 48.589547 sec\n"
     ]
    }
   ],
   "source": [
    "N = (1, 3)\n",
    "tfidf = TfidfVectorizer(min_df = 0.0, analyzer = \"char\", decode_error = \"ignore\",\n",
    "                        sublinear_tf = True, ngram_range = N)\n",
    "\n",
    "cm_tfidf, count_tfidf, m_tfidf = dic(X=train.domain, model=tfidf)\n"
   ]
  },
  {
   "cell_type": "code",
   "execution_count": 7,
   "metadata": {
    "collapsed": false
   },
   "outputs": [
    {
     "name": "stdout",
     "output_type": "stream",
     "text": [
      "Size of data: 1179455\n",
      "Dim of data : 94073\n"
     ]
    }
   ],
   "source": [
    "print('Size of data: %d' % cm_tfidf.shape[0])\n",
    "print('Dim of data : %d' % cm_tfidf.shape[1])"
   ]
  },
  {
   "cell_type": "code",
   "execution_count": 8,
   "metadata": {
    "collapsed": false
   },
   "outputs": [
    {
     "name": "stdout",
     "output_type": "stream",
     "text": [
      "size of train : 943564\n",
      "size of val   : 235891\n",
      "------------------------------------\n",
      "class_weight : 0.966019232266 0.033980767734\n"
     ]
    }
   ],
   "source": [
    "X = cm_tfidf\n",
    "y = np.array(train[[\"label\"]]).reshape(train.shape[0], )\n",
    "\n",
    "X_train, X_val, y_train, y_val, cw0, cw1 = split(X, y)"
   ]
  },
  {
   "cell_type": "code",
   "execution_count": 9,
   "metadata": {
    "collapsed": false
   },
   "outputs": [
    {
     "name": "stdout",
     "output_type": "stream",
     "text": [
      "training time 9.444795 sec\n"
     ]
    }
   ],
   "source": [
    "# Training\n",
    "t0 = time.time()\n",
    "lgs = LogisticRegression(class_weight = {1: cw1, 0: cw0}) # class_weight='balanced')\n",
    "lgs.fit(X_train, y_train)\n",
    "t1 = time.time()\n",
    "print(\"training time %f sec\" % (t1 - t0))"
   ]
  },
  {
   "cell_type": "code",
   "execution_count": 10,
   "metadata": {
    "collapsed": false
   },
   "outputs": [
    {
     "name": "stdout",
     "output_type": "stream",
     "text": [
      "LogisticRegression(C=1.0,\n",
      "          class_weight={1: 0.033980767733989774, 0: 0.96601923226601027},\n",
      "          dual=False, fit_intercept=True, intercept_scaling=1,\n",
      "          max_iter=100, multi_class='ovr', n_jobs=1, penalty='l2',\n",
      "          random_state=None, solver='liblinear', tol=0.0001, verbose=0,\n",
      "          warm_start=False)\n",
      "------------------------------------\n",
      "Baseline    : 0.965679\n",
      "Accuracy    : 0.984027\n",
      "Precision   : 1.000000\n",
      "Recall      : 0.534585\n",
      "F1-Score    : 0.696716\n",
      "AUC         : 0.997918\n"
     ]
    }
   ],
   "source": [
    "evaluation(lgs, X_val, y_val)"
   ]
  },
  {
   "cell_type": "code",
   "execution_count": 11,
   "metadata": {
    "collapsed": false
   },
   "outputs": [
    {
     "name": "stdout",
     "output_type": "stream",
     "text": [
      "LogisticRegression(C=1.0,\n",
      "          class_weight={1: 0.033980767733989774, 0: 0.96601923226601027},\n",
      "          dual=False, fit_intercept=True, intercept_scaling=1,\n",
      "          max_iter=100, multi_class='ovr', n_jobs=1, penalty='l2',\n",
      "          random_state=None, solver='liblinear', tol=0.0001, verbose=0,\n",
      "          warm_start=False)\n",
      "------------------------------------\n",
      "Baseline    : 0.965868\n",
      "Accuracy    : 0.985372\n",
      "Precision   : 1.000000\n",
      "Recall      : 0.571429\n",
      "F1-Score    : 0.727273\n",
      "AUC         : 0.998136\n"
     ]
    }
   ],
   "source": [
    "# Testing\n",
    "X_test = m_tfidf.transform(test.domain)\n",
    "y_test = test.label\n",
    "\n",
    "lgs.fit(X, y)\n",
    "\n",
    "evaluation(lgs, X_test, y_test)"
   ]
  },
  {
   "cell_type": "markdown",
   "metadata": {},
   "source": [
    "### CountVectorizer matrix"
   ]
  },
  {
   "cell_type": "code",
   "execution_count": 12,
   "metadata": {
    "collapsed": false
   },
   "outputs": [
    {
     "name": "stdout",
     "output_type": "stream",
     "text": [
      "CountVectorizer(analyzer='char', binary=False, decode_error='ignore',\n",
      "        dtype=<class 'numpy.int64'>, encoding='utf-8', input='content',\n",
      "        lowercase=True, max_df=1.0, max_features=None, min_df=1,\n",
      "        ngram_range=(1, 3), preprocessor=None, stop_words=None,\n",
      "        strip_accents=None, token_pattern='(?u)\\\\b\\\\w\\\\w+\\\\b',\n",
      "        tokenizer=None, vocabulary=None)\n",
      "All NGrams: 94073\n",
      "/ 6.39317511717\n",
      "a 6.09537267225\n",
      "e 6.05116834978\n",
      "s 6.02345083133\n",
      "t 6.02327962792\n",
      "i 5.98363981634\n",
      "r 5.97254671159\n",
      "c 5.88593594048\n",
      "o 5.88187574242\n",
      "p 5.88155354793\n",
      "It cost 46.086324 sec\n",
      "size of train : 943564\n",
      "size of val   : 235891\n",
      "------------------------------------\n",
      "class_weight : 0.966019232266 0.033980767734\n"
     ]
    }
   ],
   "source": [
    "# convert to count_matrix\n",
    "cv = CountVectorizer(analyzer = \"char\", decode_error = \"ignore\", ngram_range = N)\n",
    "\n",
    "cm_cv, count_cv, m_cv = dic(X=train.domain, model=cv)\n",
    "\n",
    "X = cm_cv\n",
    "y = np.array(train[[\"label\"]]).reshape(train.shape[0], )\n",
    "\n",
    "X_train, X_val, y_train, y_val, cw0, cw1 = split(X, y)\n"
   ]
  },
  {
   "cell_type": "code",
   "execution_count": 13,
   "metadata": {
    "collapsed": false
   },
   "outputs": [
    {
     "name": "stdout",
     "output_type": "stream",
     "text": [
      "training time 57.138308 sec\n",
      "LogisticRegression(C=1.0,\n",
      "          class_weight={1: 0.033980767733989774, 0: 0.96601923226601027},\n",
      "          dual=False, fit_intercept=True, intercept_scaling=1,\n",
      "          max_iter=100, multi_class='ovr', n_jobs=1, penalty='l2',\n",
      "          random_state=None, solver='liblinear', tol=0.0001, verbose=0,\n",
      "          warm_start=False)\n",
      "------------------------------------\n",
      "Baseline    : 0.965679\n",
      "Accuracy    : 0.998122\n",
      "Precision   : 0.999478\n",
      "Recall      : 0.945776\n",
      "F1-Score    : 0.971886\n",
      "AUC         : 0.999740\n",
      "LogisticRegression(C=1.0,\n",
      "          class_weight={1: 0.033980767733989774, 0: 0.96601923226601027},\n",
      "          dual=False, fit_intercept=True, intercept_scaling=1,\n",
      "          max_iter=100, multi_class='ovr', n_jobs=1, penalty='l2',\n",
      "          random_state=None, solver='liblinear', tol=0.0001, verbose=0,\n",
      "          warm_start=False)\n",
      "------------------------------------\n",
      "Baseline    : 0.965868\n",
      "Accuracy    : 0.998298\n",
      "Precision   : 0.998358\n",
      "Recall      : 0.951710\n",
      "F1-Score    : 0.974476\n",
      "AUC         : 0.999716\n"
     ]
    }
   ],
   "source": [
    "# Training\n",
    "t0 = time.time()\n",
    "\n",
    "lgs = LogisticRegression(class_weight = {1: cw1, 0: cw0})\n",
    "lgs.fit(X_train, y_train)\n",
    "\n",
    "t1 = time.time()\n",
    "print(\"training time %f sec\" % (t1 - t0))\n",
    "\n",
    "# Evaluation\n",
    "evaluation(lgs, X_val, y_val)\n",
    "\n",
    "# Testing\n",
    "X_test = m_cv.transform(test.domain)\n",
    "y_test = test.label\n",
    "\n",
    "lgs.fit(X, y)\n",
    "evaluation(lgs, X_test, y_test)\n"
   ]
  },
  {
   "cell_type": "markdown",
   "metadata": {},
   "source": [
    "# Length, Entropy and Score"
   ]
  },
  {
   "cell_type": "code",
   "execution_count": 14,
   "metadata": {
    "collapsed": false
   },
   "outputs": [
    {
     "name": "stdout",
     "output_type": "stream",
     "text": [
      "CountVectorizer(analyzer='char', binary=False, decode_error='ignore',\n",
      "        dtype=<class 'numpy.int64'>, encoding='utf-8', input='content',\n",
      "        lowercase=True, max_df=1.0, max_features=None, min_df=1e-05,\n",
      "        ngram_range=(1, 3), preprocessor=None, stop_words=None,\n",
      "        strip_accents=None, token_pattern='(?u)\\\\b\\\\w\\\\w+\\\\b',\n",
      "        tokenizer=None, vocabulary=None)\n",
      "All NGrams: 7027\n",
      "e 5.02840042914\n",
      "s 4.93725201842\n",
      "i 4.88880828794\n",
      "a 4.83621014593\n",
      "r 4.81267944279\n",
      "n 4.7818486841\n",
      "t 4.75632415606\n",
      "o 4.73673105904\n",
      "l 4.67219948943\n",
      "d 4.53847319104\n",
      "It cost 2.056773 sec\n"
     ]
    }
   ],
   "source": [
    "word_dataframe = pd.read_csv('words.txt', names=['word'], header=None, \n",
    "                             dtype={'word': np.str}, encoding='utf-8')\n",
    "### Cleanup words from dictionary\n",
    "word_dataframe = word_dataframe[word_dataframe['word'].map(lambda x: str(x).isalpha())]\n",
    "word_dataframe = word_dataframe.applymap(lambda x: str(x).strip().lower())\n",
    "word_dataframe = word_dataframe.dropna()\n",
    "word_dataframe = word_dataframe.drop_duplicates()\n",
    "\n",
    "dict_vc = CountVectorizer(analyzer = 'char', decode_error = \"ignore\", ngram_range = N, min_df = 1e-5, max_df = 1.0)\n",
    "cm_dict, count_dict, m_dict = dic(X=word_dataframe['word'], model=dict_vc)\n"
   ]
  },
  {
   "cell_type": "code",
   "execution_count": 15,
   "metadata": {
    "collapsed": false
   },
   "outputs": [],
   "source": [
    "def entropy(s):\n",
    "    p, lns = Counter(s), float(len(s))\n",
    "    return -sum( count/lns * math.log(count/lns, 2) for count in p.values())\n",
    "\n",
    "def len_entropy(df):\n",
    "    df['entropy'] = [entropy(x) for x in df['domain']]\n",
    "    df['length'] = [len(x) for x in df['domain']]\n",
    "    df['alexa_grams']= count_tfidf * m_tfidf.transform(df['domain']).T \n",
    "    df['tfidf_grams']= count_cv * m_cv.transform(df['domain']).T \n",
    "    df['word_grams']= count_dict * m_dict.transform(df['domain']).T\n",
    "    print (\"size of features :\", df.shape)\n",
    "    return df\n"
   ]
  },
  {
   "cell_type": "code",
   "execution_count": 16,
   "metadata": {
    "collapsed": false
   },
   "outputs": [
    {
     "name": "stdout",
     "output_type": "stream",
     "text": [
      "size of features : (1179455, 7)\n"
     ]
    }
   ],
   "source": [
    "train_new = len_entropy(train)"
   ]
  },
  {
   "cell_type": "code",
   "execution_count": 17,
   "metadata": {
    "collapsed": false
   },
   "outputs": [
    {
     "name": "stdout",
     "output_type": "stream",
     "text": [
      "size of train : 943564\n",
      "size of val   : 235891\n",
      "------------------------------------\n",
      "class_weight : 0.966019232266 0.033980767734\n"
     ]
    }
   ],
   "source": [
    "X = train_new[['length', 'entropy', 'alexa_grams', 'word_grams', 'tfidf_grams']]\n",
    "y = np.array(train_new.label)\n",
    "\n",
    "sc = MinMaxScaler(feature_range=(0, 1))\n",
    "X = sc.fit_transform(X)\n",
    "\n",
    "X_train, X_val, y_train, y_val, cw0, cw1 = split(X, y)\n"
   ]
  },
  {
   "cell_type": "code",
   "execution_count": 18,
   "metadata": {
    "collapsed": false
   },
   "outputs": [
    {
     "data": {
      "text/plain": [
       "0.034320936364676903"
      ]
     },
     "execution_count": 18,
     "metadata": {},
     "output_type": "execute_result"
    }
   ],
   "source": [
    "sum(y_val)/y_val.shape[0]"
   ]
  },
  {
   "cell_type": "code",
   "execution_count": 19,
   "metadata": {
    "collapsed": false
   },
   "outputs": [
    {
     "name": "stdout",
     "output_type": "stream",
     "text": [
      "It cost 133.227694 sec\n"
     ]
    }
   ],
   "source": [
    "# Training\n",
    "t0 = time.time()\n",
    "\n",
    "clf = RandomForestClassifier(n_estimators=20, class_weight = {1: cw1, 0: cw0})\n",
    "clf.fit(X_train, y_train)\n",
    "\n",
    "t1 = time.time()\n",
    "print(\"It cost %f sec\" % (t1 - t0))"
   ]
  },
  {
   "cell_type": "code",
   "execution_count": 20,
   "metadata": {
    "collapsed": false
   },
   "outputs": [
    {
     "name": "stdout",
     "output_type": "stream",
     "text": [
      "RandomForestClassifier(bootstrap=True,\n",
      "            class_weight={1: 0.033980767733989774, 0: 0.96601923226601027},\n",
      "            criterion='gini', max_depth=None, max_features='auto',\n",
      "            max_leaf_nodes=None, min_impurity_split=1e-07,\n",
      "            min_samples_leaf=1, min_samples_split=2,\n",
      "            min_weight_fraction_leaf=0.0, n_estimators=20, n_jobs=1,\n",
      "            oob_score=False, random_state=None, verbose=0,\n",
      "            warm_start=False)\n",
      "------------------------------------\n",
      "Baseline    : 0.965679\n",
      "Accuracy    : 0.988940\n",
      "Precision   : 0.906746\n",
      "Recall      : 0.755435\n",
      "F1-Score    : 0.824203\n",
      "AUC         : 0.961703\n"
     ]
    }
   ],
   "source": [
    "# evaluation\n",
    "evaluation(clf, X_val, y_val)"
   ]
  },
  {
   "cell_type": "code",
   "execution_count": 21,
   "metadata": {
    "collapsed": false
   },
   "outputs": [
    {
     "name": "stdout",
     "output_type": "stream",
     "text": [
      "shape of test : (131051, 7)\n"
     ]
    }
   ],
   "source": [
    "# Testing\n",
    "test['entropy'] = [entropy(x) for x in test['domain']]\n",
    "test['length'] = [len(x) for x in test['domain']]    \n",
    "test['tfidf_grams']= count_tfidf * m_tfidf.transform(test['domain']).T \n",
    "test['alexa_grams']= count_cv * m_cv.transform(test['domain']).T \n",
    "test['word_grams']= count_dict * m_dict.transform(test['domain']).T \n",
    "print(\"shape of test :\", test.shape)\n"
   ]
  },
  {
   "cell_type": "code",
   "execution_count": 22,
   "metadata": {
    "collapsed": false
   },
   "outputs": [
    {
     "name": "stdout",
     "output_type": "stream",
     "text": [
      "RandomForestClassifier(bootstrap=True,\n",
      "            class_weight={1: 0.033980767733989774, 0: 0.96601923226601027},\n",
      "            criterion='gini', max_depth=None, max_features='auto',\n",
      "            max_leaf_nodes=None, min_impurity_split=1e-07,\n",
      "            min_samples_leaf=1, min_samples_split=2,\n",
      "            min_weight_fraction_leaf=0.0, n_estimators=20, n_jobs=1,\n",
      "            oob_score=False, random_state=None, verbose=0,\n",
      "            warm_start=False)\n",
      "------------------------------------\n",
      "Baseline    : 0.965868\n",
      "Accuracy    : 0.034132\n",
      "Precision   : 0.034132\n",
      "Recall      : 1.000000\n",
      "F1-Score    : 0.066010\n",
      "AUC         : 0.422768\n"
     ]
    }
   ],
   "source": [
    "X_test = test[['length', 'entropy', 'alexa_grams', 'word_grams', 'tfidf_grams']]\n",
    "y_test = np.array(test.label)\n",
    "\n",
    "X_test = sc.fit_transform(X_test)\n",
    "evaluation(clf, X_test, y_test)"
   ]
  },
  {
   "cell_type": "markdown",
   "metadata": {},
   "source": [
    "# Keras"
   ]
  },
  {
   "cell_type": "code",
   "execution_count": 27,
   "metadata": {
    "collapsed": false
   },
   "outputs": [],
   "source": [
    "Y_train = np_utils.to_categorical(y_train,2)\n",
    "Y_val = np_utils.to_categorical(y_val,2)\n",
    "Y_test = np_utils.to_categorical(y_test,2)\n",
    "Y = np_utils.to_categorical(y,2)\n"
   ]
  },
  {
   "cell_type": "code",
   "execution_count": 28,
   "metadata": {
    "collapsed": false,
    "scrolled": true
   },
   "outputs": [
    {
     "name": "stdout",
     "output_type": "stream",
     "text": [
      "Building a model with dropout = 0.4\n",
      "Fit models and use validation_split=0.1\n",
      "Train on 943564 samples, validate on 235891 samples\n",
      "Epoch 1/50\n",
      "22s - loss: 0.1348 - acc: 0.9655 - val_loss: 0.1181 - val_acc: 0.9658\n",
      "Epoch 2/50\n",
      "22s - loss: 0.1140 - acc: 0.9643 - val_loss: 0.1012 - val_acc: 0.9658\n",
      "Epoch 3/50\n",
      "22s - loss: 0.1038 - acc: 0.9648 - val_loss: 0.0908 - val_acc: 0.9666\n",
      "Epoch 4/50\n",
      "22s - loss: 0.0955 - acc: 0.9655 - val_loss: 0.0878 - val_acc: 0.9666\n",
      "Epoch 5/50\n",
      "22s - loss: 0.0908 - acc: 0.9668 - val_loss: 0.0809 - val_acc: 0.9680\n",
      "Epoch 6/50\n",
      "22s - loss: 0.0868 - acc: 0.9686 - val_loss: 0.0804 - val_acc: 0.9676\n",
      "Epoch 7/50\n",
      "22s - loss: 0.0842 - acc: 0.9701 - val_loss: 0.0781 - val_acc: 0.9690\n",
      "Epoch 8/50\n",
      "22s - loss: 0.0824 - acc: 0.9709 - val_loss: 0.0753 - val_acc: 0.9698\n",
      "Epoch 9/50\n",
      "22s - loss: 0.0806 - acc: 0.9718 - val_loss: 0.0748 - val_acc: 0.9700\n",
      "Epoch 10/50\n",
      "22s - loss: 0.0790 - acc: 0.9727 - val_loss: 0.0721 - val_acc: 0.9733\n",
      "Epoch 11/50\n",
      "22s - loss: 0.0779 - acc: 0.9733 - val_loss: 0.0748 - val_acc: 0.9697\n",
      "Epoch 12/50\n",
      "22s - loss: 0.0768 - acc: 0.9737 - val_loss: 0.0741 - val_acc: 0.9706\n",
      "Epoch 13/50\n",
      "22s - loss: 0.0758 - acc: 0.9743 - val_loss: 0.0764 - val_acc: 0.9692\n",
      "Epoch 14/50\n",
      "22s - loss: 0.0750 - acc: 0.9746 - val_loss: 0.0795 - val_acc: 0.9680\n",
      "Epoch 15/50\n",
      "22s - loss: 0.0746 - acc: 0.9749 - val_loss: 0.0776 - val_acc: 0.9686\n",
      "Epoch 16/50\n",
      "22s - loss: 0.0736 - acc: 0.9751 - val_loss: 0.0852 - val_acc: 0.9677\n",
      "Epoch 17/50\n",
      "22s - loss: 0.0730 - acc: 0.9755 - val_loss: 0.0766 - val_acc: 0.9684\n",
      "Epoch 18/50\n",
      "22s - loss: 0.0726 - acc: 0.9757 - val_loss: 0.0772 - val_acc: 0.9687\n",
      "Epoch 19/50\n",
      "22s - loss: 0.0719 - acc: 0.9759 - val_loss: 0.0750 - val_acc: 0.9689\n",
      "Epoch 20/50\n",
      "22s - loss: 0.0717 - acc: 0.9761 - val_loss: 0.0718 - val_acc: 0.9721\n",
      "Epoch 21/50\n",
      "22s - loss: 0.0711 - acc: 0.9764 - val_loss: 0.0752 - val_acc: 0.9685\n",
      "Epoch 22/50\n",
      "22s - loss: 0.0709 - acc: 0.9766 - val_loss: 0.0732 - val_acc: 0.9700\n",
      "Epoch 23/50\n",
      "22s - loss: 0.0704 - acc: 0.9767 - val_loss: 0.0758 - val_acc: 0.9688\n",
      "Epoch 24/50\n",
      "22s - loss: 0.0699 - acc: 0.9770 - val_loss: 0.0740 - val_acc: 0.9696\n",
      "Epoch 25/50\n",
      "22s - loss: 0.0695 - acc: 0.9773 - val_loss: 0.0731 - val_acc: 0.9688\n",
      "Epoch 26/50\n",
      "22s - loss: 0.0693 - acc: 0.9774 - val_loss: 0.0716 - val_acc: 0.9704\n",
      "Epoch 27/50\n",
      "22s - loss: 0.0692 - acc: 0.9774 - val_loss: 0.0730 - val_acc: 0.9691\n",
      "Epoch 28/50\n",
      "22s - loss: 0.0689 - acc: 0.9776 - val_loss: 0.0702 - val_acc: 0.9735\n",
      "Epoch 29/50\n",
      "22s - loss: 0.0685 - acc: 0.9777 - val_loss: 0.0706 - val_acc: 0.9719\n",
      "Epoch 30/50\n",
      "22s - loss: 0.0685 - acc: 0.9778 - val_loss: 0.0686 - val_acc: 0.9743\n",
      "Epoch 31/50\n",
      "22s - loss: 0.0680 - acc: 0.9781 - val_loss: 0.0696 - val_acc: 0.9724\n",
      "Epoch 32/50\n",
      "22s - loss: 0.0677 - acc: 0.9782 - val_loss: 0.0670 - val_acc: 0.9770\n",
      "Epoch 33/50\n",
      "22s - loss: 0.0676 - acc: 0.9783 - val_loss: 0.0684 - val_acc: 0.9741\n",
      "Epoch 34/50\n",
      "22s - loss: 0.0675 - acc: 0.9782 - val_loss: 0.0706 - val_acc: 0.9719\n",
      "Epoch 35/50\n",
      "22s - loss: 0.0675 - acc: 0.9784 - val_loss: 0.0678 - val_acc: 0.9756\n",
      "Epoch 36/50\n",
      "22s - loss: 0.0672 - acc: 0.9784 - val_loss: 0.0695 - val_acc: 0.9728\n",
      "Epoch 37/50\n",
      "22s - loss: 0.0672 - acc: 0.9784 - val_loss: 0.0677 - val_acc: 0.9755\n",
      "Epoch 38/50\n",
      "22s - loss: 0.0667 - acc: 0.9786 - val_loss: 0.0670 - val_acc: 0.9753\n",
      "Epoch 39/50\n",
      "22s - loss: 0.0668 - acc: 0.9787 - val_loss: 0.0687 - val_acc: 0.9743\n",
      "Epoch 40/50\n",
      "22s - loss: 0.0667 - acc: 0.9788 - val_loss: 0.0672 - val_acc: 0.9763\n",
      "Epoch 41/50\n",
      "22s - loss: 0.0665 - acc: 0.9788 - val_loss: 0.0658 - val_acc: 0.9764\n",
      "Epoch 42/50\n",
      "22s - loss: 0.0664 - acc: 0.9788 - val_loss: 0.0675 - val_acc: 0.9748\n",
      "Epoch 43/50\n",
      "22s - loss: 0.0662 - acc: 0.9788 - val_loss: 0.0677 - val_acc: 0.9748\n",
      "Epoch 44/50\n",
      "23s - loss: 0.0662 - acc: 0.9788 - val_loss: 0.0658 - val_acc: 0.9769\n",
      "Epoch 45/50\n",
      "22s - loss: 0.0661 - acc: 0.9790 - val_loss: 0.0676 - val_acc: 0.9746\n",
      "Epoch 46/50\n",
      "23s - loss: 0.0663 - acc: 0.9788 - val_loss: 0.0662 - val_acc: 0.9776\n",
      "Epoch 47/50\n",
      "22s - loss: 0.0661 - acc: 0.9789 - val_loss: 0.0659 - val_acc: 0.9768\n",
      "Epoch 48/50\n",
      "22s - loss: 0.0660 - acc: 0.9790 - val_loss: 0.0661 - val_acc: 0.9772\n",
      "Epoch 49/50\n",
      "23s - loss: 0.0659 - acc: 0.9791 - val_loss: 0.0662 - val_acc: 0.9768\n",
      "Epoch 50/50\n",
      "25s - loss: 0.0656 - acc: 0.9793 - val_loss: 0.0670 - val_acc: 0.9755\n",
      "Visualize the loss and accuracy of both models\n"
     ]
    },
    {
     "data": {
      "image/png": "[encoded data removed]",
      "text/plain": [
       "<matplotlib.figure.Figure at 0x1310737b8>"
      ]
     },
     "metadata": {},
     "output_type": "display_data"
    }
   ],
   "source": [
    "batch_size = 256\n",
    "nb_epoch = 50\n",
    "\n",
    "\n",
    "print('Building a model with dropout = 0.4')\n",
    "model_adam = Sequential()\n",
    "model_adam.add(Dense(128, input_dim=X_train.shape[1]))\n",
    "model_adam.add(Activation('softplus'))\n",
    "model_adam.add(Dropout(0.4))\n",
    "model_adam.add(Dense(256))\n",
    "model_adam.add(Activation('softplus'))\n",
    "model_adam.add(Dropout(0.4))\n",
    "model_adam.add(Dense(Y_train.shape[1]))\n",
    "model_adam.add(Activation('softmax'))\n",
    "\n",
    "model_adam.compile(loss = 'categorical_crossentropy',\n",
    "                   optimizer = 'Adam',\n",
    "                   metrics = ['accuracy'])\n",
    "\n",
    "print('Fit models and use validation_split=0.1')\n",
    "history_adam = model_adam.fit(X_train, Y_train,\n",
    "                              batch_size = batch_size,\n",
    "                              epochs = nb_epoch,\n",
    "                              verbose = 2,\n",
    "                              shuffle = True,\n",
    "                              validation_data = (X_val, Y_val))\n",
    "\n",
    "loss_adam= history_adam.history.get('loss')\n",
    "acc_adam = history_adam.history.get('acc')\n",
    "val_loss_adam = history_adam.history.get('val_loss')\n",
    "val_acc_adam = history_adam.history.get('val_acc')\n",
    "\n",
    "print('Visualize the loss and accuracy of both models')\n",
    "plt.figure(0)\n",
    "plt.subplot(211)\n",
    "plt.plot(range(len(loss_adam)), loss_adam,label='Training')\n",
    "plt.plot(range(len(val_loss_adam)), val_loss_adam,label='Validation')\n",
    "plt.title('Loss')\n",
    "plt.legend(loc='upper left')\n",
    "\n",
    "plt.subplot(212)\n",
    "plt.plot(range(len(acc_adam)), acc_adam,label='Training')\n",
    "plt.plot(range(len(val_acc_adam)), val_acc_adam,label='Validation')\n",
    "plt.title('Accuracy')\n",
    "\n",
    "plt.show()"
   ]
  },
  {
   "cell_type": "code",
   "execution_count": 29,
   "metadata": {
    "collapsed": true
   },
   "outputs": [],
   "source": [
    "def plot_confusion_matrix(cm, classes,\n",
    "                          normalize = False,\n",
    "                          title = 'Confusion matrix',\n",
    "                          cmap = plt.cm.Blues):\n",
    "    \"\"\"\n",
    "    This function prints and plots the confusion matrix.\n",
    "    Normalization can be applied by setting `normalize=True`.\n",
    "    \"\"\"\n",
    "    plt.imshow(cm, interpolation='nearest', cmap=cmap)\n",
    "    plt.title(title)\n",
    "    plt.colorbar()\n",
    "    tick_marks = np.arange(len(classes))\n",
    "    plt.xticks(tick_marks, classes, rotation = 45)\n",
    "    plt.yticks(tick_marks, classes)\n",
    "\n",
    "    if normalize:\n",
    "        cm = cm.astype('float') / cm.sum(axis=1)[:, np.newaxis]\n",
    "        print(\"Normalized confusion matrix\")\n",
    "    else:\n",
    "        print('Confusion matrix, without normalization')\n",
    "\n",
    "    print(cm)\n",
    "\n",
    "    thresh = cm.max() / 2.\n",
    "    for i, j in itertools.product(range(cm.shape[0]), range(cm.shape[1])):\n",
    "        plt.text(j, i, cm[i, j],\n",
    "                 horizontalalignment = \"center\",\n",
    "                 color = \"white\" if cm[i, j] > thresh else \"black\")\n",
    "\n",
    "    plt.tight_layout()\n",
    "    plt.ylabel('True label')\n",
    "    plt.xlabel('Predicted label')\n",
    "    \n",
    "# Evaluation\n",
    "def evaluation(y_true, y_pred):\n",
    "    fpr, tpr, _ = roc_curve(y_true, y_pred)\n",
    "    auc_ = auc(fpr, tpr)\n",
    "    cm = confusion_matrix(y_true, y_pred, labels = None, sample_weight = None)\n",
    "\n",
    "    np.set_printoptions(precision=2)\n",
    "    class_names = [\"normal\", \"botnet\"]\n",
    "\n",
    "    # Plot non-normalized confusion matrix\n",
    "    plt.figure()\n",
    "    plot_confusion_matrix(cm, classes = class_names,\n",
    "                          title = 'Confusion matrix, without normalization')\n",
    "    # Plot normalized confusion matrix\n",
    "    plt.figure()\n",
    "    plot_confusion_matrix(cm, classes = class_names, normalize = True,\n",
    "                          title = 'Normalized confusion matrix')\n",
    "    print(\"------------------------------------\")\n",
    "    print(\"Baseline    : %.6f\" % (1 - sum(y_true)/y_true.shape[0]))\n",
    "    print(\"Precision   : %f\" % precision_score(y_true, y_pred))\n",
    "    print(\"Recall      : %f\" % recall_score(y_true, y_pred))\n",
    "    print(\"F1-Score    : %f\" % f1_score(y_true, y_pred))\n",
    "    print(\"AUC         : %f\" % auc_)\n",
    "    plt.show()\n"
   ]
  },
  {
   "cell_type": "code",
   "execution_count": 30,
   "metadata": {
    "collapsed": false
   },
   "outputs": [
    {
     "name": "stdout",
     "output_type": "stream",
     "text": [
      "Confusion matrix, without normalization\n",
      "[[     0 126578]\n",
      " [     0   4473]]\n",
      "Normalized confusion matrix\n",
      "[[ 0.  1.]\n",
      " [ 0.  1.]]\n",
      "------------------------------------\n",
      "Baseline    : 0.965868\n",
      "Precision   : 0.034132\n",
      "Recall      : 1.000000\n",
      "F1-Score    : 0.066010\n",
      "AUC         : 0.500000\n"
     ]
    },
    {
     "data": {
      "image/png": "[encoded data removed]",
      "text/plain": [
       "<matplotlib.figure.Figure at 0x1407d7cf8>"
      ]
     },
     "metadata": {},
     "output_type": "display_data"
    },
    {
     "data": {
      "image/png": "[encoded data removed]",
      "text/plain": [
       "<matplotlib.figure.Figure at 0x141a87860>"
      ]
     },
     "metadata": {},
     "output_type": "display_data"
    }
   ],
   "source": [
    "y_true = Y_test[:,1]\n",
    "y_pred = model_adam.predict_classes(X_test, verbose = 2)\n",
    "evaluation(y_true, y_pred)\n"
   ]
  },
  {
   "cell_type": "code",
   "execution_count": null,
   "metadata": {
    "collapsed": true
   },
   "outputs": [],
   "source": []
  }
 ],
 "metadata": {
  "anaconda-cloud": {},
  "kernelspec": {
   "display_name": "Python 3",
   "language": "python",
   "name": "python3"
  },
  "language_info": {
   "codemirror_mode": {
    "name": "ipython",
    "version": 3
   },
   "file_extension": ".py",
   "mimetype": "text/x-python",
   "name": "python",
   "nbconvert_exporter": "python",
   "pygments_lexer": "ipython3",
   "version": "3.6.0"
  }
 },
 "nbformat": 4,
 "nbformat_minor": 2
}
