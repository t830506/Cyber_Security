{
 "cells": [
  {
   "cell_type": "code",
   "execution_count": 20,
   "metadata": {
    "collapsed": false
   },
   "outputs": [],
   "source": [
    "import itertools\n",
    "import numpy as np\n",
    "import pandas as pd\n",
    "import networkx as nx\n",
    "import matplotlib.pyplot as plt\n",
    "import IPython.core.display as di\n",
    "\n",
    "from sklearn.preprocessing import MinMaxScaler\n",
    "from sklearn.model_selection import train_test_split\n",
    "from sklearn.metrics import confusion_matrix, roc_curve, auc, precision_score, recall_score, f1_score\n",
    "\n",
    "from keras.utils import np_utils\n",
    "from keras.preprocessing.sequence import pad_sequences\n",
    "from keras.models import Sequential\n",
    "from keras.layers import Dense, Dropout, Activation, Flatten, Convolution2D, MaxPooling2D\n",
    "from keras.optimizers import  Adam\n"
   ]
  },
  {
   "cell_type": "code",
   "execution_count": 2,
   "metadata": {
    "collapsed": false
   },
   "outputs": [
    {
     "data": {
      "text/html": [
       "<script>jQuery(function() {if (jQuery(\"body.notebook_app\").length == 0) { jQuery(\".input_area\").toggle(); jQuery(\".prompt\").toggle();}});</script>"
      ]
     },
     "metadata": {},
     "output_type": "display_data"
    }
   ],
   "source": [
    "di.display_html('<script>jQuery(function() {if (jQuery(\"body.notebook_app\").length == 0) { jQuery(\".input_area\").toggle(); jQuery(\".prompt\").toggle();}});</script>', raw=True)\n",
    "pd.options.mode.chained_assignment = None\n"
   ]
  },
  {
   "cell_type": "code",
   "execution_count": 3,
   "metadata": {
    "collapsed": false
   },
   "outputs": [
    {
     "data": {
      "text/html": [
       "<div>\n",
       "<table border=\"1\" class=\"dataframe\">\n",
       "  <thead>\n",
       "    <tr style=\"text-align: right;\">\n",
       "      <th></th>\n",
       "      <th>SrcAddr</th>\n",
       "      <th>DstAddr</th>\n",
       "      <th>label</th>\n",
       "      <th>StartTime</th>\n",
       "    </tr>\n",
       "  </thead>\n",
       "  <tbody>\n",
       "    <tr>\n",
       "      <th>0</th>\n",
       "      <td>212.50.71.179</td>\n",
       "      <td>147.32.84.229</td>\n",
       "      <td>0</td>\n",
       "      <td>1</td>\n",
       "    </tr>\n",
       "    <tr>\n",
       "      <th>1</th>\n",
       "      <td>84.13.246.132</td>\n",
       "      <td>147.32.84.229</td>\n",
       "      <td>0</td>\n",
       "      <td>2</td>\n",
       "    </tr>\n",
       "    <tr>\n",
       "      <th>2</th>\n",
       "      <td>217.163.21.35</td>\n",
       "      <td>147.32.86.194</td>\n",
       "      <td>0</td>\n",
       "      <td>3</td>\n",
       "    </tr>\n",
       "    <tr>\n",
       "      <th>3</th>\n",
       "      <td>83.3.77.74</td>\n",
       "      <td>147.32.85.5</td>\n",
       "      <td>0</td>\n",
       "      <td>4</td>\n",
       "    </tr>\n",
       "    <tr>\n",
       "      <th>4</th>\n",
       "      <td>74.89.223.204</td>\n",
       "      <td>147.32.84.229</td>\n",
       "      <td>0</td>\n",
       "      <td>5</td>\n",
       "    </tr>\n",
       "  </tbody>\n",
       "</table>\n",
       "</div>"
      ],
      "text/plain": [
       "         SrcAddr        DstAddr  label  StartTime\n",
       "0  212.50.71.179  147.32.84.229      0          1\n",
       "1  84.13.246.132  147.32.84.229      0          2\n",
       "2  217.163.21.35  147.32.86.194      0          3\n",
       "3     83.3.77.74    147.32.85.5      0          4\n",
       "4  74.89.223.204  147.32.84.229      0          5"
      ]
     },
     "execution_count": 3,
     "metadata": {},
     "output_type": "execute_result"
    }
   ],
   "source": [
    "# import dataset\n",
    "df = pd.read_csv(\"20110810_preprocessing.txt\")\n",
    "df = df[[\"SrcAddr\", \"DstAddr\", \"label\"]]\n",
    "df[\"StartTime\"] = df.index + 1 \n",
    "df.head()"
   ]
  },
  {
   "cell_type": "markdown",
   "metadata": {},
   "source": [
    "> 先將資料取出成對IP並藉由StartTime排列。  \n",
    "因為可能會有testing set出現training set沒出現過的IP的情況，所以我們打算將IP轉成一個timewindow裡面的degree，在之後做testing的時候就可以也轉化成degree去做代表。"
   ]
  },
  {
   "cell_type": "markdown",
   "metadata": {},
   "source": [
    "### IP address ranking in time_window and sort by IP address"
   ]
  },
  {
   "cell_type": "code",
   "execution_count": 4,
   "metadata": {
    "collapsed": false
   },
   "outputs": [
    {
     "data": {
      "image/png": "[encoded data removed]",
      "text/plain": [
       "<matplotlib.figure.Figure at 0x11ac29e48>"
      ]
     },
     "metadata": {},
     "output_type": "display_data"
    },
    {
     "name": "stdout",
     "output_type": "stream",
     "text": [
      "Count of IP in one time_window: 3514\n",
      "Rank and Degree\n"
     ]
    },
    {
     "data": {
      "text/html": [
       "<div>\n",
       "<table border=\"1\" class=\"dataframe\">\n",
       "  <thead>\n",
       "    <tr style=\"text-align: right;\">\n",
       "      <th></th>\n",
       "      <th>SrcAddr</th>\n",
       "      <th>degree</th>\n",
       "      <th>DstAddr</th>\n",
       "      <th>rank</th>\n",
       "    </tr>\n",
       "  </thead>\n",
       "  <tbody>\n",
       "    <tr>\n",
       "      <th>0</th>\n",
       "      <td>212.50.71.179</td>\n",
       "      <td>1</td>\n",
       "      <td>212.50.71.179</td>\n",
       "      <td>1832.0</td>\n",
       "    </tr>\n",
       "    <tr>\n",
       "      <th>1</th>\n",
       "      <td>147.32.84.229</td>\n",
       "      <td>2893</td>\n",
       "      <td>147.32.84.229</td>\n",
       "      <td>1.0</td>\n",
       "    </tr>\n",
       "    <tr>\n",
       "      <th>2</th>\n",
       "      <td>84.13.246.132</td>\n",
       "      <td>1</td>\n",
       "      <td>84.13.246.132</td>\n",
       "      <td>1832.0</td>\n",
       "    </tr>\n",
       "    <tr>\n",
       "      <th>3</th>\n",
       "      <td>217.163.21.35</td>\n",
       "      <td>1</td>\n",
       "      <td>217.163.21.35</td>\n",
       "      <td>1832.0</td>\n",
       "    </tr>\n",
       "    <tr>\n",
       "      <th>4</th>\n",
       "      <td>147.32.86.194</td>\n",
       "      <td>9</td>\n",
       "      <td>147.32.86.194</td>\n",
       "      <td>16.0</td>\n",
       "    </tr>\n",
       "  </tbody>\n",
       "</table>\n",
       "</div>"
      ],
      "text/plain": [
       "         SrcAddr  degree        DstAddr    rank\n",
       "0  212.50.71.179       1  212.50.71.179  1832.0\n",
       "1  147.32.84.229    2893  147.32.84.229     1.0\n",
       "2  84.13.246.132       1  84.13.246.132  1832.0\n",
       "3  217.163.21.35       1  217.163.21.35  1832.0\n",
       "4  147.32.86.194       9  147.32.86.194    16.0"
      ]
     },
     "execution_count": 4,
     "metadata": {},
     "output_type": "execute_result"
    }
   ],
   "source": [
    "# example for IP to rank\n",
    "\n",
    "i = 0\n",
    "time_window = 5000\n",
    "df1 = df[((i)*time_window <= df.StartTime) & (df.StartTime < (i+1)*time_window)]\n",
    "G = nx.from_pandas_dataframe(df1, 'SrcAddr', 'DstAddr', edge_attr = True)\n",
    "nx.shortest_path(G)\n",
    "nx.draw_networkx(G, node_size = 40, alpha = 0.2, with_labels = False)\n",
    "plt.title(\"Network of Time_window = 5000\")\n",
    "plt.show()\n",
    "\n",
    "### count degree\n",
    "deg = pd.DataFrame(G.degree_iter())\n",
    "deg.columns = [\"SrcAddr\", \"degree\"]\n",
    "deg[\"DstAddr\"] = deg.SrcAddr\n",
    "print('Count of IP in one time_window:', deg.shape[0])\n",
    "\n",
    "### to rank\n",
    "deg[\"rank\"] = deg.degree.rank(axis = 0, method = 'average', numeric_only = None,\n",
    "                              na_option = 'keep', ascending = False, pct = False)\n",
    "print(\"Rank and Degree\")\n",
    "deg.head()"
   ]
  },
  {
   "cell_type": "code",
   "execution_count": 5,
   "metadata": {
    "collapsed": true
   },
   "outputs": [],
   "source": [
    "def IP2deg(df, deg):\n",
    "    df1 = df.merge(deg.drop([\"degree\",\"DstAddr\"], axis=1), how = 'inner', on = \"SrcAddr\")\n",
    "    df2 = df1.merge(deg.drop([\"degree\",\"SrcAddr\"], axis=1), how = 'inner', on = \"DstAddr\")\n",
    "    df2.columns = [\"SrcAddr1\",\"DstAddr1\",\"label\",\"StartTime\",\"SrcAddr\",\"DstAddr\"]\n",
    "    return df2"
   ]
  },
  {
   "cell_type": "code",
   "execution_count": 6,
   "metadata": {
    "collapsed": false
   },
   "outputs": [
    {
     "data": {
      "text/html": [
       "<div>\n",
       "<table border=\"1\" class=\"dataframe\">\n",
       "  <thead>\n",
       "    <tr style=\"text-align: right;\">\n",
       "      <th></th>\n",
       "      <th>SrcAddr1</th>\n",
       "      <th>DstAddr1</th>\n",
       "      <th>label</th>\n",
       "      <th>StartTime</th>\n",
       "      <th>SrcAddr</th>\n",
       "      <th>DstAddr</th>\n",
       "    </tr>\n",
       "  </thead>\n",
       "  <tbody>\n",
       "    <tr>\n",
       "      <th>0</th>\n",
       "      <td>212.50.71.179</td>\n",
       "      <td>147.32.84.229</td>\n",
       "      <td>0</td>\n",
       "      <td>1</td>\n",
       "      <td>1832.0</td>\n",
       "      <td>1.0</td>\n",
       "    </tr>\n",
       "    <tr>\n",
       "      <th>1</th>\n",
       "      <td>84.13.246.132</td>\n",
       "      <td>147.32.84.229</td>\n",
       "      <td>0</td>\n",
       "      <td>2</td>\n",
       "      <td>1832.0</td>\n",
       "      <td>1.0</td>\n",
       "    </tr>\n",
       "    <tr>\n",
       "      <th>2</th>\n",
       "      <td>74.89.223.204</td>\n",
       "      <td>147.32.84.229</td>\n",
       "      <td>0</td>\n",
       "      <td>5</td>\n",
       "      <td>1832.0</td>\n",
       "      <td>1.0</td>\n",
       "    </tr>\n",
       "    <tr>\n",
       "      <th>3</th>\n",
       "      <td>66.169.184.207</td>\n",
       "      <td>147.32.84.229</td>\n",
       "      <td>0</td>\n",
       "      <td>6</td>\n",
       "      <td>1832.0</td>\n",
       "      <td>1.0</td>\n",
       "    </tr>\n",
       "    <tr>\n",
       "      <th>4</th>\n",
       "      <td>182.239.167.121</td>\n",
       "      <td>147.32.84.229</td>\n",
       "      <td>0</td>\n",
       "      <td>7</td>\n",
       "      <td>1832.0</td>\n",
       "      <td>1.0</td>\n",
       "    </tr>\n",
       "  </tbody>\n",
       "</table>\n",
       "</div>"
      ],
      "text/plain": [
       "          SrcAddr1       DstAddr1  label  StartTime  SrcAddr  DstAddr\n",
       "0    212.50.71.179  147.32.84.229      0          1   1832.0      1.0\n",
       "1    84.13.246.132  147.32.84.229      0          2   1832.0      1.0\n",
       "2    74.89.223.204  147.32.84.229      0          5   1832.0      1.0\n",
       "3   66.169.184.207  147.32.84.229      0          6   1832.0      1.0\n",
       "4  182.239.167.121  147.32.84.229      0          7   1832.0      1.0"
      ]
     },
     "execution_count": 6,
     "metadata": {},
     "output_type": "execute_result"
    }
   ],
   "source": [
    "df_deg = IP2deg(df1, deg)\n",
    "df_deg.head()"
   ]
  },
  {
   "cell_type": "markdown",
   "metadata": {},
   "source": [
    "### For Loop"
   ]
  },
  {
   "cell_type": "code",
   "execution_count": 7,
   "metadata": {
    "collapsed": false
   },
   "outputs": [
    {
     "name": "stdout",
     "output_type": "stream",
     "text": [
      "(2819999, 6)\n"
     ]
    }
   ],
   "source": [
    "time_window = 5000\n",
    "size_of_window = int((df.shape[0]) / time_window)\n",
    "\n",
    "y = []\n",
    "for i in range(size_of_window):\n",
    "    df3 = df[(i*time_window <= df.StartTime) & (df.StartTime < (i+1)*time_window)]\n",
    "    G = nx.from_pandas_dataframe(df3, 'SrcAddr', 'DstAddr', edge_attr = True)\n",
    "    \n",
    "    deg = pd.DataFrame(G.degree_iter(), columns = [\"SrcAddr\", \"degree\"])\n",
    "    deg[\"DstAddr\"] = deg.SrcAddr\n",
    "    deg[\"rank\"] = deg.degree.rank(axis = 0, method = 'average', numeric_only = None,\n",
    "                                  na_option = 'keep', ascending = False, pct = False)\n",
    "    df_deg = IP2deg(df3, deg)\n",
    "    y.append(df_deg)\n",
    "    \n",
    "df_ip = pd.concat(y, axis = 0).reset_index(drop = True)\n",
    "print(df_ip.shape)\n"
   ]
  },
  {
   "cell_type": "code",
   "execution_count": 9,
   "metadata": {
    "collapsed": false
   },
   "outputs": [
    {
     "name": "stdout",
     "output_type": "stream",
     "text": [
      "Size of dataset 2819999\n",
      "baseline : 0.9854748175442616\n"
     ]
    }
   ],
   "source": [
    "### Sort by IP and StartTime\n",
    "def sort_cw(df):\n",
    "    df = df.sort_values(by = [\"SrcAddr1\",\"DstAddr1\",\"StartTime\"], ascending = True).reset_index(drop = True)\n",
    "    df1 = df.drop([\"SrcAddr1\",\"DstAddr1\",\"StartTime\"], axis = 1)\n",
    "    print(\"Size of dataset\", df1.shape[0])\n",
    "    cw0 = int(df1[\"label\"].value_counts()[0]) / df1.shape[0]\n",
    "    cw1 = int(df1[\"label\"].value_counts()[1]) / df1.shape[0]\n",
    "    print (\"baseline :\", cw0)\n",
    "    return df1, cw0, cw1\n",
    "\n",
    "df_ip, cw0, cw1 = sort_cw(df_ip)\n"
   ]
  },
  {
   "cell_type": "code",
   "execution_count": 10,
   "metadata": {
    "collapsed": false
   },
   "outputs": [
    {
     "name": "stdout",
     "output_type": "stream",
     "text": [
      "size of train : 2284199\n",
      "size of validation : 253800\n",
      "size of test  : 282000\n"
     ]
    }
   ],
   "source": [
    "# split to train, validation, test\n",
    "df_ip_ = df_ip[df_ip.index % 10 != 1].reset_index(drop = True)\n",
    "test = df_ip[df_ip.index % 10 == 1].reset_index(drop = True)\n",
    "\n",
    "train = df_ip_[df_ip_.index % 10 != 1].reset_index(drop = True)\n",
    "val = df_ip_[df_ip_.index % 10 == 1].reset_index(drop = True)\n",
    "print (\"size of train :\", train.shape[0])\n",
    "print (\"size of validation :\", val.shape[0])\n",
    "print (\"size of test  :\", test.shape[0])\n"
   ]
  },
  {
   "cell_type": "code",
   "execution_count": 12,
   "metadata": {
    "collapsed": true
   },
   "outputs": [],
   "source": [
    "def reshape(df):\n",
    "    seq_length = 1\n",
    "    x = np.array(df[[\"SrcAddr\", \"DstAddr\"]])\n",
    "    X = np.reshape(x, (len(x), seq_length, 2))\n",
    "    X = X / np.max(df.SrcAddr)\n",
    "    \n",
    "    y = np.array(df[\"label\"])\n",
    "    Y = np_utils.to_categorical(y)\n",
    "    print (\"number of botnet :\", int(df[\"label\"].value_counts()[1]))\n",
    "    return X, Y"
   ]
  },
  {
   "cell_type": "code",
   "execution_count": 13,
   "metadata": {
    "collapsed": false
   },
   "outputs": [
    {
     "name": "stdout",
     "output_type": "stream",
     "text": [
      "Reshape Training and Testing Dataset\n",
      "number of botnet : 36865\n",
      "number of botnet : 4096\n",
      "number of botnet : 33178\n",
      "number of botnet : 3687\n",
      "baseline : 0.985475177305\n"
     ]
    }
   ],
   "source": [
    "print(\"Reshape Training and Testing Dataset\")\n",
    "X_, y_ = reshape(df_ip_)\n",
    "X_test, y_test = reshape(test)\n",
    "\n",
    "X_train, y_train = reshape(train)\n",
    "X_val, y_val = reshape(val)\n",
    "print (\"baseline :\", sum(y_test[:,0])/y_test.shape[0])"
   ]
  },
  {
   "cell_type": "markdown",
   "metadata": {},
   "source": [
    "### Building rnn model"
   ]
  },
  {
   "cell_type": "code",
   "execution_count": 14,
   "metadata": {
    "collapsed": false
   },
   "outputs": [
    {
     "name": "stdout",
     "output_type": "stream",
     "text": [
      "_________________________________________________________________\n",
      "Layer (type)                 Output Shape              Param #   \n",
      "=================================================================\n",
      "lstm_1 (LSTM)                (None, 1, 128)            67072     \n",
      "_________________________________________________________________\n",
      "lstm_2 (LSTM)                (None, 128)               131584    \n",
      "_________________________________________________________________\n",
      "dense_1 (Dense)              (None, 2)                 258       \n",
      "=================================================================\n",
      "Total params: 198,914\n",
      "Trainable params: 198,914\n",
      "Non-trainable params: 0\n",
      "_________________________________________________________________\n"
     ]
    }
   ],
   "source": [
    "from keras.layers import LSTM\n",
    "\n",
    "model = Sequential()\n",
    "model.add(LSTM(128, return_sequences = True,\n",
    "               input_shape = (X_train.shape[1], X_train.shape[2])))\n",
    "model.add(LSTM(128, return_sequences = False, dropout=0.5))\n",
    "model.add(Dense(y_train.shape[1], activation='softmax'))\n",
    "model.compile(loss = 'categorical_crossentropy',\n",
    "              optimizer = 'adam',\n",
    "              metrics = ['accuracy'])\n",
    "model.summary()"
   ]
  },
  {
   "cell_type": "code",
   "execution_count": 15,
   "metadata": {
    "collapsed": false
   },
   "outputs": [
    {
     "name": "stdout",
     "output_type": "stream",
     "text": [
      "Train on 2284199 samples, validate on 253800 samples\n",
      "Epoch 1/8\n",
      "443s - loss: 0.0026 - acc: 0.9972 - val_loss: 0.2305 - val_acc: 0.9855\n",
      "Epoch 2/8\n",
      "425s - loss: 0.0031 - acc: 0.9977 - val_loss: 0.2342 - val_acc: 0.9855\n",
      "Epoch 3/8\n",
      "491s - loss: 0.0037 - acc: 0.9974 - val_loss: 0.2289 - val_acc: 0.9855\n",
      "Epoch 4/8\n",
      "392s - loss: 0.0028 - acc: 0.9977 - val_loss: 0.2319 - val_acc: 0.9855\n",
      "Epoch 5/8\n",
      "392s - loss: 0.0033 - acc: 0.9975 - val_loss: 0.2323 - val_acc: 0.9855\n",
      "Epoch 6/8\n",
      "392s - loss: 0.0031 - acc: 0.9976 - val_loss: 0.2327 - val_acc: 0.9855\n",
      "Epoch 7/8\n",
      "391s - loss: 0.0033 - acc: 0.9975 - val_loss: 0.2325 - val_acc: 0.9855\n",
      "Epoch 8/8\n",
      "545s - loss: 0.0032 - acc: 0.9975 - val_loss: 0.2342 - val_acc: 0.9855\n"
     ]
    },
    {
     "data": {
      "image/png": "[encoded data removed]",
      "text/plain": [
       "<matplotlib.figure.Figure at 0x1211f4be0>"
      ]
     },
     "metadata": {},
     "output_type": "display_data"
    }
   ],
   "source": [
    "batch_size = 128\n",
    "nb_epoch = 8 #200\n",
    "\n",
    "history = model.fit(X_train, y_train,\n",
    "                    batch_size = batch_size,  \n",
    "                    epochs = nb_epoch,  \n",
    "                    verbose = 2,\n",
    "                    shuffle = False, \n",
    "                    validation_data = (X_val, y_val),\n",
    "                    class_weight = {0: cw0, 1: cw1})\n",
    "\n",
    "loss = history.history.get('loss')\n",
    "acc = history.history.get('acc')\n",
    "\n",
    "''' Access the performance on validation data '''\n",
    "val_loss = history.history.get('val_loss')\n",
    "val_acc = history.history.get('val_acc')\n",
    "\n",
    "''' Visualize the loss and accuracy of both models'''\n",
    "import matplotlib.pyplot as plt\n",
    "plt.figure(0)\n",
    "plt.subplot(121)\n",
    "plt.plot(range(len(loss)), loss,label = 'Training')\n",
    "plt.plot(range(len(val_loss)), val_loss,label = 'Validation')\n",
    "plt.title('Loss')\n",
    "plt.legend(loc='upper left')\n",
    "plt.subplot(122)\n",
    "plt.plot(range(len(acc)), acc,label = 'Training')\n",
    "plt.plot(range(len(val_acc)), val_acc,label = 'Validation')\n",
    "plt.title('Accuracy')\n",
    "plt.show()\n"
   ]
  },
  {
   "cell_type": "code",
   "execution_count": 16,
   "metadata": {
    "collapsed": false
   },
   "outputs": [
    {
     "name": "stdout",
     "output_type": "stream",
     "text": [
      "Validation score: 0.234112595193\n",
      "Validation accuracy: 0.985475177305\n"
     ]
    }
   ],
   "source": [
    "score = model.evaluate(X_test, y_test, verbose = 2)\n",
    "print('Validation score:', score[0])\n",
    "print('Validation accuracy:', score[1])"
   ]
  },
  {
   "cell_type": "code",
   "execution_count": 17,
   "metadata": {
    "collapsed": true
   },
   "outputs": [],
   "source": [
    "def plot_confusion_matrix(cm, classes,\n",
    "                          normalize = False,\n",
    "                          title = 'Confusion matrix',\n",
    "                          cmap = plt.cm.Blues):\n",
    "    \"\"\"\n",
    "    This function prints and plots the confusion matrix.\n",
    "    Normalization can be applied by setting `normalize=True`.\n",
    "    \"\"\"\n",
    "    plt.imshow(cm, interpolation='nearest', cmap=cmap)\n",
    "    plt.title(title)\n",
    "    plt.colorbar()\n",
    "    tick_marks = np.arange(len(classes))\n",
    "    plt.xticks(tick_marks, classes, rotation = 45)\n",
    "    plt.yticks(tick_marks, classes)\n",
    "\n",
    "    if normalize:\n",
    "        cm = cm.astype('float') / cm.sum(axis=1)[:, np.newaxis]\n",
    "        print(\"Normalized confusion matrix\")\n",
    "    else:\n",
    "        print('Confusion matrix, without normalization')\n",
    "\n",
    "    print(cm)\n",
    "\n",
    "    thresh = cm.max() / 2.\n",
    "    for i, j in itertools.product(range(cm.shape[0]), range(cm.shape[1])):\n",
    "        plt.text(j, i, cm[i, j],\n",
    "                 horizontalalignment = \"center\",\n",
    "                 color = \"white\" if cm[i, j] > thresh else \"black\")\n",
    "\n",
    "    plt.tight_layout()\n",
    "    plt.ylabel('True label')\n",
    "    plt.xlabel('Predicted label')\n",
    "    \n",
    "# Evaluation\n",
    "def evaluation(y_true, y_pred):\n",
    "    fpr, tpr, _ = roc_curve(y_true, y_pred)\n",
    "    auc_ = auc(fpr, tpr)\n",
    "    cm = confusion_matrix(y_true, y_pred, labels = None, sample_weight = None)\n",
    "\n",
    "    np.set_printoptions(precision=2)\n",
    "    class_names = [\"normal\", \"botnet\"]\n",
    "\n",
    "    # Plot non-normalized confusion matrix\n",
    "    plt.figure()\n",
    "    plot_confusion_matrix(cm, classes = class_names,\n",
    "                          title = 'Confusion matrix, without normalization')\n",
    "    # Plot normalized confusion matrix\n",
    "    plt.figure()\n",
    "    plot_confusion_matrix(cm, classes = class_names, normalize = True,\n",
    "                          title = 'Normalized confusion matrix')\n",
    "    print(\"------------------------------------\")\n",
    "    print(\"Baseline    : %.6f\" % (1 - sum(y_true)/y_true.shape[0]))\n",
    "    print(\"Precision   : %f\" % precision_score(y_true, y_pred))\n",
    "    print(\"Recall      : %f\" % recall_score(y_true, y_pred))\n",
    "    print(\"F1-Score    : %f\" % f1_score(y_true, y_pred))\n",
    "    print(\"AUC         : %f\" % auc_)\n",
    "    plt.show()\n"
   ]
  },
  {
   "cell_type": "code",
   "execution_count": 22,
   "metadata": {
    "collapsed": false
   },
   "outputs": [
    {
     "name": "stdout",
     "output_type": "stream",
     "text": [
      "Confusion matrix, without normalization\n",
      "[[277904      0]\n",
      " [  4096      0]]\n",
      "Normalized confusion matrix\n",
      "[[ 1.  0.]\n",
      " [ 1.  0.]]\n",
      "------------------------------------\n",
      "Baseline    : 0.985475\n",
      "Precision   : 0.000000\n",
      "Recall      : 0.000000\n",
      "F1-Score    : 0.000000\n",
      "AUC         : 0.500000\n"
     ]
    },
    {
     "name": "stderr",
     "output_type": "stream",
     "text": [
      "/Users/Shawn/anaconda/lib/python3.6/site-packages/sklearn/metrics/classification.py:1113: UndefinedMetricWarning: Precision is ill-defined and being set to 0.0 due to no predicted samples.\n",
      "  'precision', 'predicted', average, warn_for)\n",
      "/Users/Shawn/anaconda/lib/python3.6/site-packages/sklearn/metrics/classification.py:1113: UndefinedMetricWarning: F-score is ill-defined and being set to 0.0 due to no predicted samples.\n",
      "  'precision', 'predicted', average, warn_for)\n"
     ]
    },
    {
     "data": {
      "image/png": "[encoded data removed]",
      "text/plain": [
       "<matplotlib.figure.Figure at 0x121bf6b00>"
      ]
     },
     "metadata": {},
     "output_type": "display_data"
    },
    {
     "data": {
      "image/png": "[encoded data removed]",
      "text/plain": [
       "<matplotlib.figure.Figure at 0x121aede10>"
      ]
     },
     "metadata": {},
     "output_type": "display_data"
    }
   ],
   "source": [
    "y_true = y_test[:,1]\n",
    "y_pred = model.predict_classes(X_test, verbose = 2)\n",
    "evaluation(y_true, y_pred)\n"
   ]
  },
  {
   "cell_type": "code",
   "execution_count": 23,
   "metadata": {
    "collapsed": false,
    "scrolled": true
   },
   "outputs": [
    {
     "name": "stdout",
     "output_type": "stream",
     "text": [
      "Train on 2537999 samples, validate on 282000 samples\n",
      "Epoch 1/16\n",
      "448s - loss: 0.0017 - acc: 0.9855 - val_loss: 0.1040 - val_acc: 0.9855\n",
      "Epoch 2/16\n",
      "433s - loss: 0.0016 - acc: 0.9855 - val_loss: 0.0875 - val_acc: 0.9855\n",
      "Epoch 3/16\n",
      "433s - loss: 0.0015 - acc: 0.9855 - val_loss: 0.0915 - val_acc: 0.9855\n",
      "Epoch 4/16\n",
      "434s - loss: 0.0015 - acc: 0.9855 - val_loss: 0.0854 - val_acc: 0.9855\n",
      "Epoch 5/16\n",
      "433s - loss: 0.0015 - acc: 0.9855 - val_loss: 0.0866 - val_acc: 0.9855\n",
      "Epoch 6/16\n",
      "434s - loss: 0.0015 - acc: 0.9855 - val_loss: 0.0892 - val_acc: 0.9855\n",
      "Epoch 7/16\n",
      "433s - loss: 0.0015 - acc: 0.9855 - val_loss: 0.0880 - val_acc: 0.9855\n",
      "Epoch 8/16\n",
      "433s - loss: 0.0015 - acc: 0.9855 - val_loss: 0.0870 - val_acc: 0.9855\n",
      "Epoch 9/16\n",
      "434s - loss: 0.0015 - acc: 0.9855 - val_loss: 0.0964 - val_acc: 0.9855\n",
      "Epoch 10/16\n",
      "434s - loss: 0.0015 - acc: 0.9855 - val_loss: 0.0959 - val_acc: 0.9855\n",
      "Epoch 11/16\n",
      "433s - loss: 0.0015 - acc: 0.9855 - val_loss: 0.0878 - val_acc: 0.9855\n",
      "Epoch 12/16\n",
      "433s - loss: 0.0015 - acc: 0.9855 - val_loss: 0.0875 - val_acc: 0.9855\n",
      "Epoch 13/16\n",
      "432s - loss: 0.0015 - acc: 0.9855 - val_loss: 0.0893 - val_acc: 0.9855\n",
      "Epoch 14/16\n",
      "436s - loss: 0.0015 - acc: 0.9855 - val_loss: 0.0852 - val_acc: 0.9855\n",
      "Epoch 15/16\n",
      "434s - loss: 0.0015 - acc: 0.9855 - val_loss: 0.0876 - val_acc: 0.9855\n",
      "Epoch 16/16\n",
      "434s - loss: 0.0015 - acc: 0.9855 - val_loss: 0.0855 - val_acc: 0.9855\n"
     ]
    },
    {
     "data": {
      "text/plain": [
       "<keras.callbacks.History at 0x121a96828>"
      ]
     },
     "execution_count": 23,
     "metadata": {},
     "output_type": "execute_result"
    }
   ],
   "source": [
    "model.fit(X_, y_, batch_size = batch_size, epochs = 16, verbose = 2,\n",
    "          validation_data = (X_test, y_test), class_weight = {0: cw0, 1: cw1})\n"
   ]
  },
  {
   "cell_type": "markdown",
   "metadata": {},
   "source": [
    "# Testing"
   ]
  },
  {
   "cell_type": "code",
   "execution_count": 24,
   "metadata": {
    "collapsed": false
   },
   "outputs": [],
   "source": [
    "df_11 = pd.read_csv(\"20110811_preprocessing.txt\")\n",
    "df_11 = df_11[[\"SrcAddr\", \"DstAddr\", \"label\"]]\n",
    "df_11[\"StartTime\"] = df_11.index + 1 \n"
   ]
  },
  {
   "cell_type": "code",
   "execution_count": 25,
   "metadata": {
    "collapsed": false
   },
   "outputs": [
    {
     "name": "stdout",
     "output_type": "stream",
     "text": [
      "(1804999, 6)\n",
      "Size of dataset 1804999\n",
      "baseline : 0.9883983315226214\n",
      "number of botnet : 20941\n"
     ]
    }
   ],
   "source": [
    "time_window = 5000\n",
    "size_of_window = int((df_11.shape[0]) / time_window)\n",
    "\n",
    "y = []\n",
    "for i in range(size_of_window):\n",
    "    df1 = df_11[(i*time_window <= df_11.StartTime) & (df_11.StartTime < (i+1)*time_window)]\n",
    "    G = nx.from_pandas_dataframe(df1, 'SrcAddr', 'DstAddr', edge_attr = True)\n",
    "    \n",
    "    deg = pd.DataFrame(G.degree_iter(), columns = [\"SrcAddr\", \"degree\"])\n",
    "    deg[\"DstAddr\"] = deg.SrcAddr\n",
    "    deg[\"rank\"] = deg.degree.rank(axis = 0, method = 'average', numeric_only = None,\n",
    "                                  na_option = 'keep', ascending = False, pct = False)\n",
    "    df_deg = IP2deg(df1, deg)\n",
    "    y.append(df_deg)\n",
    "    \n",
    "appended_data_11 = pd.concat(y, axis = 0).reset_index(drop = True)\n",
    "print(appended_data_11.shape)\n",
    "\n",
    "# transfer to rank\n",
    "appended_data_11, cw0, cw1 = sort_cw(appended_data_11)\n",
    "test_X, test_y = reshape(appended_data_11)\n"
   ]
  },
  {
   "cell_type": "code",
   "execution_count": 26,
   "metadata": {
    "collapsed": false
   },
   "outputs": [
    {
     "name": "stdout",
     "output_type": "stream",
     "text": [
      "Test score: 0.0735594226992\n",
      "Test accuracy: 0.988398331523\n"
     ]
    }
   ],
   "source": [
    "score = model.evaluate(test_X, test_y, verbose = 2)\n",
    "print('Test score:', score[0])  \n",
    "print('Test accuracy:', score[1])"
   ]
  },
  {
   "cell_type": "code",
   "execution_count": 27,
   "metadata": {
    "collapsed": false
   },
   "outputs": [
    {
     "name": "stdout",
     "output_type": "stream",
     "text": [
      "Confusion matrix, without normalization\n",
      "[[1784058       0]\n",
      " [  20941       0]]\n",
      "Normalized confusion matrix\n",
      "[[ 1.  0.]\n",
      " [ 1.  0.]]\n",
      "------------------------------------\n",
      "Baseline    : 0.988398\n"
     ]
    },
    {
     "name": "stderr",
     "output_type": "stream",
     "text": [
      "/Users/Shawn/anaconda/lib/python3.6/site-packages/sklearn/metrics/classification.py:1113: UndefinedMetricWarning: Precision is ill-defined and being set to 0.0 due to no predicted samples.\n",
      "  'precision', 'predicted', average, warn_for)\n"
     ]
    },
    {
     "name": "stdout",
     "output_type": "stream",
     "text": [
      "Precision   : 0.000000\n",
      "Recall      : 0.000000\n",
      "F1-Score    : 0.000000\n",
      "AUC         : 0.500000\n"
     ]
    },
    {
     "name": "stderr",
     "output_type": "stream",
     "text": [
      "/Users/Shawn/anaconda/lib/python3.6/site-packages/sklearn/metrics/classification.py:1113: UndefinedMetricWarning: F-score is ill-defined and being set to 0.0 due to no predicted samples.\n",
      "  'precision', 'predicted', average, warn_for)\n"
     ]
    },
    {
     "data": {
      "image/png": "[encoded data removed]",
      "text/plain": [
       "<matplotlib.figure.Figure at 0x144a76c50>"
      ]
     },
     "metadata": {},
     "output_type": "display_data"
    },
    {
     "data": {
      "image/png": "[encoded data removed]",
      "text/plain": [
       "<matplotlib.figure.Figure at 0x1218b8748>"
      ]
     },
     "metadata": {},
     "output_type": "display_data"
    }
   ],
   "source": [
    "y_true = test_y[:,1]\n",
    "y_pred = model.predict_classes(test_X, verbose = 2)\n",
    "evaluation(y_true, y_pred)\n"
   ]
  },
  {
   "cell_type": "markdown",
   "metadata": {},
   "source": [
    "### 0819"
   ]
  },
  {
   "cell_type": "code",
   "execution_count": 29,
   "metadata": {
    "collapsed": false
   },
   "outputs": [],
   "source": [
    "df_19 = pd.read_csv(\"20110819_preprocessing.txt\")\n",
    "df_19 = df_19[[\"SrcAddr\", \"DstAddr\", \"label\"]]\n",
    "df_19[\"StartTime\"] = df_19.index + 1 \n"
   ]
  },
  {
   "cell_type": "code",
   "execution_count": 30,
   "metadata": {
    "collapsed": false
   },
   "outputs": [
    {
     "name": "stdout",
     "output_type": "stream",
     "text": [
      "(324999, 6)\n",
      "Size of dataset 324999\n",
      "baseline : 0.993406133557334\n",
      "number of botnet : 2143\n"
     ]
    }
   ],
   "source": [
    "time_window = 5000\n",
    "size_of_window = int((df_19.shape[0]) / time_window)\n",
    "\n",
    "y = []\n",
    "for i in range(size_of_window):\n",
    "    df1 = df_19[(i*time_window <= df_19.StartTime) & (df_19.StartTime < (i+1)*time_window)]\n",
    "    G = nx.from_pandas_dataframe(df1, 'SrcAddr', 'DstAddr', edge_attr = True)\n",
    "    \n",
    "    deg = pd.DataFrame(G.degree_iter(), columns = [\"SrcAddr\", \"degree\"])\n",
    "    deg[\"DstAddr\"] = deg.SrcAddr\n",
    "    deg[\"rank\"] = deg.degree.rank(axis = 0, method = 'average', numeric_only = None,\n",
    "                                  na_option = 'keep', ascending = False, pct = False)\n",
    "    df_deg = IP2deg(df1, deg)\n",
    "    y.append(df_deg)\n",
    "    \n",
    "df_ip_19 = pd.concat(y, axis = 0).reset_index(drop = True)\n",
    "print(df_ip_19.shape)\n",
    "\n",
    "# transfer to rank\n",
    "df_ip_19, cw0, cw1 = sort_cw(df_ip_19)\n",
    "test_X, test_y = reshape(df_ip_19)\n"
   ]
  },
  {
   "cell_type": "code",
   "execution_count": 31,
   "metadata": {
    "collapsed": false
   },
   "outputs": [
    {
     "name": "stdout",
     "output_type": "stream",
     "text": [
      "Test score: 0.0524318866394\n",
      "Test accuracy: 0.993406133557\n"
     ]
    }
   ],
   "source": [
    "score = model.evaluate(test_X, test_y, verbose = 2)\n",
    "print('Test score:', score[0])  \n",
    "print('Test accuracy:', score[1])"
   ]
  },
  {
   "cell_type": "code",
   "execution_count": 32,
   "metadata": {
    "collapsed": false
   },
   "outputs": [
    {
     "name": "stdout",
     "output_type": "stream",
     "text": [
      "Confusion matrix, without normalization\n",
      "[[322856      0]\n",
      " [  2143      0]]\n",
      "Normalized confusion matrix\n",
      "[[ 1.  0.]\n",
      " [ 1.  0.]]\n",
      "------------------------------------\n",
      "Baseline    : 0.993406\n",
      "Precision   : 0.000000\n"
     ]
    },
    {
     "name": "stderr",
     "output_type": "stream",
     "text": [
      "/Users/Shawn/anaconda/lib/python3.6/site-packages/sklearn/metrics/classification.py:1113: UndefinedMetricWarning: Precision is ill-defined and being set to 0.0 due to no predicted samples.\n",
      "  'precision', 'predicted', average, warn_for)\n",
      "/Users/Shawn/anaconda/lib/python3.6/site-packages/sklearn/metrics/classification.py:1113: UndefinedMetricWarning: F-score is ill-defined and being set to 0.0 due to no predicted samples.\n",
      "  'precision', 'predicted', average, warn_for)\n"
     ]
    },
    {
     "name": "stdout",
     "output_type": "stream",
     "text": [
      "Recall      : 0.000000\n",
      "F1-Score    : 0.000000\n",
      "AUC         : 0.500000\n"
     ]
    },
    {
     "data": {
      "image/png": "[encoded data removed]",
      "text/plain": [
       "<matplotlib.figure.Figure at 0x12147c668>"
      ]
     },
     "metadata": {},
     "output_type": "display_data"
    },
    {
     "data": {
      "image/png": "[encoded data removed]",
      "text/plain": [
       "<matplotlib.figure.Figure at 0x127449320>"
      ]
     },
     "metadata": {},
     "output_type": "display_data"
    }
   ],
   "source": [
    "y_true = test_y[:,1]\n",
    "y_pred = model.predict_classes(test_X, verbose = 2)\n",
    "evaluation(y_true, y_pred)\n"
   ]
  },
  {
   "cell_type": "code",
   "execution_count": null,
   "metadata": {
    "collapsed": true
   },
   "outputs": [],
   "source": []
  }
 ],
 "metadata": {
  "kernelspec": {
   "display_name": "Python 3",
   "language": "python",
   "name": "python3"
  },
  "language_info": {
   "codemirror_mode": {
    "name": "ipython",
    "version": 3
   },
   "file_extension": ".py",
   "mimetype": "text/x-python",
   "name": "python",
   "nbconvert_exporter": "python",
   "pygments_lexer": "ipython3",
   "version": "3.6.0"
  }
 },
 "nbformat": 4,
 "nbformat_minor": 2
}
