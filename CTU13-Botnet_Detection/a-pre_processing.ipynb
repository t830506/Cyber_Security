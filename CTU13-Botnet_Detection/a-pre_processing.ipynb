{
 "cells": [
  {
   "cell_type": "markdown",
   "metadata": {},
   "source": [
    "# 官網找資料"
   ]
  },
  {
   "cell_type": "code",
   "execution_count": 1,
   "metadata": {
    "collapsed": true
   },
   "outputs": [],
   "source": [
    "import numpy as np\n",
    "import pandas as pd\n",
    "\n",
    "import matplotlib.pyplot as plt\n",
    "from matplotlib import cm\n"
   ]
  },
  {
   "cell_type": "code",
   "execution_count": 2,
   "metadata": {
    "collapsed": false
   },
   "outputs": [],
   "source": [
    "pd.options.mode.chained_assignment = None\n",
    "%matplotlib inline\n"
   ]
  },
  {
   "cell_type": "code",
   "execution_count": 3,
   "metadata": {
    "collapsed": true
   },
   "outputs": [],
   "source": [
    "def loadingdata(path):\n",
    "    # import dataset\n",
    "    df = pd.read_csv(path)\n",
    "    print (df.isnull().sum())\n",
    "    print ('Number of Original Dataset : %d' % (df.shape[0]))\n",
    "    print ('Number of Drop NaN         : %d' % (df.dropna(axis = 0).shape[0]))\n",
    "    return df\n",
    "\n",
    "def preprocessing(df, con_normal):\n",
    "    # labeling botnet\n",
    "    bot = df[~con_normal]\n",
    "    nonbot = df[con_normal]\n",
    "    bot[\"label\"] = 1\n",
    "    nonbot[\"label\"] = 0\n",
    "    df = pd.concat([bot, nonbot])\n",
    "    df = df.drop([\"Label\"], axis=1).reset_index(drop=True)\n",
    "    print('Number of Botnet : %d' % (bot.shape[0]))\n",
    "    print('Number of Normal : %d' % (nonbot.shape[0]))\n",
    "    \n",
    "    # missing value filling by mode\n",
    "    df.Sport = df.Sport.fillna(value=df[~(df['Sport'].isnull())].Sport.mode()[0])\n",
    "    df.Dport = df.Dport.fillna(value=df[~(df['Dport'].isnull())].Dport.mode()[0])\n",
    "    df.State = df.State.fillna(value=df[~(df['State'].isnull())].State.mode()[0])\n",
    "    df.sTos = df.sTos.fillna(value=df[~(df['sTos'].isnull())].sTos.mode()[0])\n",
    "    df.dTos = df.dTos.fillna(value=df[~(df['dTos'].isnull())].dTos.mode()[0])\n",
    "    \n",
    "    # StartTime & EndTime to second\n",
    "    con0 = pd.DataFrame(df.StartTime.str.split('/', 3).tolist(), columns = ['year', 'month', 'a'])\n",
    "    con1 = pd.DataFrame(con0.a.str.split(':', 3).tolist(), columns = ['b', 'mins', 'sec'])\n",
    "    con2 = pd.DataFrame(con1.b.str.split(' ', 2).tolist(), columns = ['day', 'hr'])\n",
    "    con2.hr = pd.to_numeric(con2.hr, errors='coerce')\n",
    "    con1.mins = pd.to_numeric(con1.mins, errors='coerce')\n",
    "    con1.sec = pd.to_numeric(con1.sec, errors='coerce')\n",
    "    df[\"StartTime\"] = con2.hr*3600 + con1.mins*60 + con1.sec\n",
    "    \n",
    "    # select row of Sport is 16-bit\n",
    "    con0 = pd.DataFrame(df.Sport.str.split('x',2).tolist(), columns = ['Sport','y'])\n",
    "    Sport_16 = df.iloc[con0[~(con0['y'].isnull())].index,:].reset_index(drop=True)\n",
    "    # 16 to 10\n",
    "    Sport_16_ = Sport_16[[\"Sport\"]]\n",
    "    a=[]\n",
    "    for i in range(Sport_16_.shape[0]):\n",
    "        x = int(Sport_16_.iloc[i,].Sport, 16)\n",
    "        a.append(x)\n",
    "    Sport_10 = pd.DataFrame(a, columns=[\"Sport_10\"])\n",
    "    Sport_16[\"Sport\"] = Sport_10.Sport_10\n",
    "    df = pd.concat([df.iloc[con0[(con0['y'].isnull())].index,:], Sport_16], axis=0).reset_index(drop=True)\n",
    "    del Sport_16\n",
    "    del Sport_16_\n",
    "    \n",
    "    # select row of Dport is 16-bit\n",
    "    con0 = pd.DataFrame(df.Dport.str.split('x',2).tolist(), columns = ['Sport','y'])\n",
    "    Dport_16 = df.iloc[con0[~(con0['y'].isnull())].index,:].reset_index(drop=True)\n",
    "    # 16 to 10\n",
    "    Dport_16_ = Dport_16[[\"Dport\"]]\n",
    "    a=[]\n",
    "    for i in range(Dport_16_.shape[0]):\n",
    "        x = int(Dport_16_.iloc[i,].Dport, 16)\n",
    "        a.append(x)\n",
    "    Dport_10 = pd.DataFrame(a, columns=[\"Dport_10\"])\n",
    "    Dport_16[\"Dport\"] = Dport_10.Dport_10\n",
    "    df = pd.concat([df.iloc[con0[(con0['y'].isnull())].index,:], Dport_16], axis=0).reset_index(drop=True)\n",
    "    del Dport_16\n",
    "    del Dport_16_\n",
    "    df = df.sort_values(by=[\"StartTime\"]).reset_index(drop=True)\n",
    "    return df"
   ]
  },
  {
   "cell_type": "code",
   "execution_count": 4,
   "metadata": {
    "collapsed": false,
    "scrolled": false
   },
   "outputs": [
    {
     "name": "stdout",
     "output_type": "stream",
     "text": [
      "StartTime         0\n",
      "Dur               0\n",
      "Proto             0\n",
      "SrcAddr           0\n",
      "Sport          9379\n",
      "Dir               0\n",
      "DstAddr           0\n",
      "Dport          4390\n",
      "State             1\n",
      "sTos          10590\n",
      "dTos         195190\n",
      "TotPkts           0\n",
      "TotBytes          0\n",
      "SrcBytes          0\n",
      "Label             0\n",
      "dtype: int64\n",
      "Number of Original Dataset : 2824636\n",
      "Number of Drop NaN         : 2619340\n",
      "Number of Botnet : 40961\n",
      "Number of Normal : 2783675\n"
     ]
    }
   ],
   "source": [
    "path_10 = \"capture20110810.binetflow.txt\"\n",
    "df_10 = loadingdata(path_10)\n",
    "con_normal = (df_10.SrcAddr != \"147.32.84.165\")\n",
    "df_10_new = preprocessing(df_10, con_normal)\n",
    "df_10_new.to_csv(\"20110810_preprocessing.txt\", index=False)\n"
   ]
  },
  {
   "cell_type": "markdown",
   "metadata": {},
   "source": [
    "1. fillna by mode\n",
    "2. StartTime convert to sencond\n",
    "3. Sport and Dport which contain 16-bit convert to 10-bit\n",
    "4. label dataset by botnet IP_address"
   ]
  },
  {
   "cell_type": "code",
   "execution_count": 5,
   "metadata": {
    "collapsed": false
   },
   "outputs": [
    {
     "name": "stdout",
     "output_type": "stream",
     "text": [
      "StartTime         0\n",
      "Dur               0\n",
      "Proto             0\n",
      "SrcAddr           0\n",
      "Sport          3993\n",
      "Dir               0\n",
      "DstAddr           0\n",
      "Dport          2973\n",
      "State             0\n",
      "sTos           4324\n",
      "dTos         269835\n",
      "TotPkts           0\n",
      "TotBytes          0\n",
      "SrcBytes          0\n",
      "Label             0\n",
      "dtype: int64\n",
      "Number of Original Dataset : 1808122\n",
      "Number of Drop NaN         : 1534307\n",
      "Number of Botnet : 20941\n",
      "Number of Normal : 1787181\n"
     ]
    }
   ],
   "source": [
    "path_11 = \"capture20110811.binetflow.txt\"\n",
    "df_11 = loadingdata(path_11)\n",
    "\n",
    "con_normal = (df_11.SrcAddr != \"147.32.84.165\")\n",
    "df_11_new = preprocessing(df_11, con_normal)\n",
    "\n",
    "df_11_new.to_csv(\"20110811_preprocessing.txt\", index=False)"
   ]
  },
  {
   "cell_type": "code",
   "execution_count": 6,
   "metadata": {
    "collapsed": false
   },
   "outputs": [
    {
     "name": "stdout",
     "output_type": "stream",
     "text": [
      "StartTime        0\n",
      "Dur              0\n",
      "Proto            0\n",
      "SrcAddr          0\n",
      "Sport         1812\n",
      "Dir              0\n",
      "DstAddr          0\n",
      "Dport          837\n",
      "State            0\n",
      "sTos          2059\n",
      "dTos         28267\n",
      "TotPkts          0\n",
      "TotBytes         0\n",
      "SrcBytes         0\n",
      "Label            0\n",
      "dtype: int64\n",
      "Number of Original Dataset : 325471\n",
      "Number of Drop NaN         : 295270\n",
      "Number of Botnet : 2143\n",
      "Number of Normal : 323328\n"
     ]
    }
   ],
   "source": [
    "path_19 = \"capture20110819.binetflow.txt\"\n",
    "df_19 = loadingdata(path_19)\n",
    "\n",
    "con_normal = (df_19.SrcAddr != \"147.32.84.165\")&(df_19.SrcAddr != \"147.32.84.191\")&(df_19.SrcAddr != \"147.32.84.192\") \n",
    "df_19_new = preprocessing(df_19, con_normal)\n",
    "df_19_new.to_csv(\"20110819_preprocessing.txt\", index=False)\n"
   ]
  },
  {
   "cell_type": "markdown",
   "metadata": {
    "collapsed": true
   },
   "source": [
    "### visualization"
   ]
  },
  {
   "cell_type": "code",
   "execution_count": 7,
   "metadata": {
    "collapsed": false
   },
   "outputs": [
    {
     "data": {
      "text/html": [
       "<div>\n",
       "<table border=\"1\" class=\"dataframe\">\n",
       "  <thead>\n",
       "    <tr style=\"text-align: right;\">\n",
       "      <th></th>\n",
       "      <th>StartTime</th>\n",
       "      <th>Dur</th>\n",
       "      <th>Proto</th>\n",
       "      <th>SrcAddr</th>\n",
       "      <th>Sport</th>\n",
       "      <th>Dir</th>\n",
       "      <th>DstAddr</th>\n",
       "      <th>Dport</th>\n",
       "      <th>State</th>\n",
       "      <th>sTos</th>\n",
       "      <th>dTos</th>\n",
       "      <th>TotPkts</th>\n",
       "      <th>TotBytes</th>\n",
       "      <th>SrcBytes</th>\n",
       "      <th>label</th>\n",
       "    </tr>\n",
       "  </thead>\n",
       "  <tbody>\n",
       "    <tr>\n",
       "      <th>0</th>\n",
       "      <td>35213.047277</td>\n",
       "      <td>3550.182373</td>\n",
       "      <td>udp</td>\n",
       "      <td>212.50.71.179</td>\n",
       "      <td>39678</td>\n",
       "      <td>&lt;-&gt;</td>\n",
       "      <td>147.32.84.229</td>\n",
       "      <td>13363</td>\n",
       "      <td>CON</td>\n",
       "      <td>0.0</td>\n",
       "      <td>0.0</td>\n",
       "      <td>12</td>\n",
       "      <td>875</td>\n",
       "      <td>413</td>\n",
       "      <td>0</td>\n",
       "    </tr>\n",
       "    <tr>\n",
       "      <th>1</th>\n",
       "      <td>35213.048843</td>\n",
       "      <td>0.000883</td>\n",
       "      <td>udp</td>\n",
       "      <td>84.13.246.132</td>\n",
       "      <td>28431</td>\n",
       "      <td>&lt;-&gt;</td>\n",
       "      <td>147.32.84.229</td>\n",
       "      <td>13363</td>\n",
       "      <td>CON</td>\n",
       "      <td>0.0</td>\n",
       "      <td>0.0</td>\n",
       "      <td>2</td>\n",
       "      <td>135</td>\n",
       "      <td>75</td>\n",
       "      <td>0</td>\n",
       "    </tr>\n",
       "    <tr>\n",
       "      <th>2</th>\n",
       "      <td>35213.049895</td>\n",
       "      <td>0.000326</td>\n",
       "      <td>tcp</td>\n",
       "      <td>217.163.21.35</td>\n",
       "      <td>80</td>\n",
       "      <td>&lt;?&gt;</td>\n",
       "      <td>147.32.86.194</td>\n",
       "      <td>2063</td>\n",
       "      <td>FA_A</td>\n",
       "      <td>0.0</td>\n",
       "      <td>0.0</td>\n",
       "      <td>2</td>\n",
       "      <td>120</td>\n",
       "      <td>60</td>\n",
       "      <td>0</td>\n",
       "    </tr>\n",
       "    <tr>\n",
       "      <th>3</th>\n",
       "      <td>35213.053771</td>\n",
       "      <td>0.056966</td>\n",
       "      <td>tcp</td>\n",
       "      <td>83.3.77.74</td>\n",
       "      <td>32882</td>\n",
       "      <td>&lt;?&gt;</td>\n",
       "      <td>147.32.85.5</td>\n",
       "      <td>21857</td>\n",
       "      <td>FA_FA</td>\n",
       "      <td>0.0</td>\n",
       "      <td>0.0</td>\n",
       "      <td>3</td>\n",
       "      <td>180</td>\n",
       "      <td>120</td>\n",
       "      <td>0</td>\n",
       "    </tr>\n",
       "    <tr>\n",
       "      <th>4</th>\n",
       "      <td>35213.053937</td>\n",
       "      <td>3427.768066</td>\n",
       "      <td>udp</td>\n",
       "      <td>74.89.223.204</td>\n",
       "      <td>21278</td>\n",
       "      <td>&lt;-&gt;</td>\n",
       "      <td>147.32.84.229</td>\n",
       "      <td>13363</td>\n",
       "      <td>CON</td>\n",
       "      <td>0.0</td>\n",
       "      <td>0.0</td>\n",
       "      <td>42</td>\n",
       "      <td>2856</td>\n",
       "      <td>1596</td>\n",
       "      <td>0</td>\n",
       "    </tr>\n",
       "  </tbody>\n",
       "</table>\n",
       "</div>"
      ],
      "text/plain": [
       "      StartTime          Dur Proto        SrcAddr  Sport    Dir  \\\n",
       "0  35213.047277  3550.182373   udp  212.50.71.179  39678    <->   \n",
       "1  35213.048843     0.000883   udp  84.13.246.132  28431    <->   \n",
       "2  35213.049895     0.000326   tcp  217.163.21.35     80    <?>   \n",
       "3  35213.053771     0.056966   tcp     83.3.77.74  32882    <?>   \n",
       "4  35213.053937  3427.768066   udp  74.89.223.204  21278    <->   \n",
       "\n",
       "         DstAddr  Dport  State  sTos  dTos  TotPkts  TotBytes  SrcBytes  label  \n",
       "0  147.32.84.229  13363    CON   0.0   0.0       12       875       413      0  \n",
       "1  147.32.84.229  13363    CON   0.0   0.0        2       135        75      0  \n",
       "2  147.32.86.194   2063   FA_A   0.0   0.0        2       120        60      0  \n",
       "3    147.32.85.5  21857  FA_FA   0.0   0.0        3       180       120      0  \n",
       "4  147.32.84.229  13363    CON   0.0   0.0       42      2856      1596      0  "
      ]
     },
     "execution_count": 7,
     "metadata": {},
     "output_type": "execute_result"
    }
   ],
   "source": [
    "df_10_new.head()"
   ]
  },
  {
   "cell_type": "code",
   "execution_count": 8,
   "metadata": {
    "collapsed": false
   },
   "outputs": [
    {
     "name": "stdout",
     "output_type": "stream",
     "text": [
      "0.7766487434133106\n"
     ]
    },
    {
     "data": {
      "image/png": "[encoded data removed]",
      "text/plain": [
       "<matplotlib.figure.Figure at 0x13cca8438>"
      ]
     },
     "metadata": {},
     "output_type": "display_data"
    }
   ],
   "source": [
    "d = df_10_new[(df_10_new.Dur <= 20)]\n",
    "print (d.shape[0]/df_10_new.shape[0])\n",
    "d.Dur.plot(kind=\"box\", title=\"Boxplot of Dur\")\n",
    "plt.show()"
   ]
  },
  {
   "cell_type": "code",
   "execution_count": null,
   "metadata": {
    "collapsed": true
   },
   "outputs": [],
   "source": []
  }
 ],
 "metadata": {
  "kernelspec": {
   "display_name": "Python 3",
   "language": "python",
   "name": "python3"
  },
  "language_info": {
   "codemirror_mode": {
    "name": "ipython",
    "version": 3
   },
   "file_extension": ".py",
   "mimetype": "text/x-python",
   "name": "python",
   "nbconvert_exporter": "python",
   "pygments_lexer": "ipython3",
   "version": "3.6.0"
  }
 },
 "nbformat": 4,
 "nbformat_minor": 2
}
