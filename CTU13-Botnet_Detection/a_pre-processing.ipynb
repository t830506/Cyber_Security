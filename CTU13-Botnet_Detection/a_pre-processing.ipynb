{
 "cells": [
  {
   "cell_type": "markdown",
   "metadata": {},
   "source": [
    "### 連續型變數\n",
    "1. Start time:<br>\n",
    "    此特性定義流的開始時間。它是網絡流場的基本特徵之一。開始時間轉換為分類的數值。將時間格式轉換為數值的公式是小時* 3600 +分鐘* 60 +秒，它與結束時間比較表明流量是惡意的。\n",
    "2. Duration:<br>\n",
    "    流的持續時間表示完成特定流所需的總時間。流的持續時間被用來計算平均分組速率和平均位元組速率。  \n",
    "3. TotPkts: Total packets<br>\n",
    "    特徵被定義為在特定流中傳輸的數据包的個數。它存儲在特定時間段或流期間傳輸的數据包的數量。  \n",
    "4. TotBytes: Total Bytes (TotBytes, SrcBytes)<br>\n",
    "    内容指定用戶端根據請求發送的總位元組數。它的總位元組大小是衡量網絡量測的一個重要名額。\n",
    "\n",
    "### 類別型變數\n",
    "1. Source IP Address: 找出僵屍網路的label<br>\n",
    "    The IP Address is used to uniquely identify the desired host to contact. It is also one of the basic features of net flow fields. The source IP address is the IP address of the computer and or website that are currently visiting, or using. The source IP address is converted to decimal format for further processing. It is computed as follows 10.0.2.112 is converted to 167772784 \n",
    "2. Protocol:<br>\n",
    "    協定是一組特殊的規則，在通信連接中，端點在通信時使用。協定指定通信實體之間的互動。使用的協定有不同的類型，它們是TCP、UDP、ICMP、SMTP等。\n",
    "3. port: (Sport, Dport)<br>\n",
    "    允許我們識別我們的數據或請求必須發送到的服務或應用程序。它們可用於獲取針對攻擊目標的遠程系統的資訊。埠號80，53，25被標記為具有不同僵屍網路攻擊的惡意流，它們是HTTP建立的僵屍網路、垃圾郵件僵屍網路和基於DNS伺服器的僵屍網路。16-bit to 10-bit processing.\n",
    "4. dir:<br>\n",
    "    訓示指定數據是否沿兩個方向或僅一個方向移動。方向也指定路徑，流量將從源到目的地通過互聯網絡。大多數流是雙向的，可以用雙面箭頭表示，單向流用單邊箭頭表示。大多數垃圾郵件僵屍網路使用單向流。\n",
    "5. States:<br>\n",
    "    表示網路流的狀態有不同的類型，它們是SYN、RST、CON、ACK、FIN.。 There are different types of states that represent the network flow they are SYN, RST, CON, ACK, FIN. In the SYN state client sends a SYN message which contains the server's port and the client's Initial Sequence Number to the server. The server sends back its own SYN and ACK.The Client sends an ACK. Final state is the state is a now a half-closed connection. The client no longer sends data, but is still able to receive data from the server. Upon receiving this FIN, the server enters a close state. CON is the connection state in when once the connection is established it is in CON state. The RST state is the connection reset state in which the host refuses a connection. Too many SYN state is received means sender is infected. Too many RST state is received means receiver is infected.\n",
    "6. Tos:  (sToS, dToS)<br>\n",
    "    ToS is defined as type of service。它是一種將優先順序分配給每個IP包的機制，以及請求特定處理的機制，如高輸送量、高可靠性或低延遲。通常情况下欄位將為0。"
   ]
  },
  {
   "cell_type": "code",
   "execution_count": 2,
   "metadata": {
    "collapsed": true
   },
   "outputs": [],
   "source": [
    "import numpy as np\n",
    "import pandas as pd\n",
    "\n",
    "import matplotlib.pyplot as plt\n",
    "from matplotlib import cm"
   ]
  },
  {
   "cell_type": "code",
   "execution_count": 3,
   "metadata": {
    "collapsed": true
   },
   "outputs": [],
   "source": [
    "pd.options.mode.chained_assignment = None\n",
    "%matplotlib inline"
   ]
  },
  {
   "cell_type": "code",
   "execution_count": 4,
   "metadata": {
    "collapsed": true
   },
   "outputs": [],
   "source": [
    "def loadingdata(path):\n",
    "    # import dataset\n",
    "    df = pd.read_csv(path)\n",
    "    print (df.isnull().sum())\n",
    "    print ('Number of Original Dataset : %d' % (df.shape[0]))\n",
    "    print ('Number of Drop NaN         : %d' % (df.dropna(axis = 0).shape[0]))\n",
    "    return df"
   ]
  },
  {
   "cell_type": "code",
   "execution_count": 5,
   "metadata": {},
   "outputs": [
    {
     "name": "stdout",
     "output_type": "stream",
     "text": [
      "StartTime         0\n",
      "Dur               0\n",
      "Proto             0\n",
      "SrcAddr           0\n",
      "Sport          9379\n",
      "Dir               0\n",
      "DstAddr           0\n",
      "Dport          4390\n",
      "State             1\n",
      "sTos          10590\n",
      "dTos         195190\n",
      "TotPkts           0\n",
      "TotBytes          0\n",
      "SrcBytes          0\n",
      "Label             0\n",
      "dtype: int64\n",
      "Number of Original Dataset : 2824636\n",
      "Number of Drop NaN         : 2619340\n"
     ]
    }
   ],
   "source": [
    "path_10 = \"capture20110810.binetflow.txt\"\n",
    "df_10 = loadingdata(path_10)"
   ]
  },
  {
   "cell_type": "code",
   "execution_count": 5,
   "metadata": {},
   "outputs": [
    {
     "data": {
      "text/plain": [
       "StartTime         2011/08/10 09:46:53.047277\n",
       "Dur                                  3550.18\n",
       "Proto                                    udp\n",
       "SrcAddr                        212.50.71.179\n",
       "Sport                                  39678\n",
       "Dir                                      <->\n",
       "DstAddr                        147.32.84.229\n",
       "Dport                                  13363\n",
       "State                                    CON\n",
       "sTos                                       0\n",
       "dTos                                       0\n",
       "TotPkts                                   12\n",
       "TotBytes                                 875\n",
       "SrcBytes                                 413\n",
       "Label        flow=Background-UDP-Established\n",
       "Name: 0, dtype: object"
      ]
     },
     "execution_count": 5,
     "metadata": {},
     "output_type": "execute_result"
    }
   ],
   "source": [
    "df_10.iloc[0, :]"
   ]
  },
  {
   "cell_type": "code",
   "execution_count": 6,
   "metadata": {
    "collapsed": true
   },
   "outputs": [],
   "source": [
    "# 將類別型變數的遺失值補上眾數\n",
    "# 將時間轉換成秒數\n",
    "# Sport, Dport有些是16-bit, 要轉換成10-bit\n",
    "\n",
    "\n",
    "def preprocessing(df, con_normal):\n",
    "    # labeling botnet\n",
    "    bot = df[~con_normal]\n",
    "    nonbot = df[con_normal]\n",
    "    bot[\"label\"] = 1\n",
    "    nonbot[\"label\"] = 0\n",
    "    df = pd.concat([bot, nonbot])\n",
    "    df = df.drop([\"Label\"], axis=1).reset_index(drop=True)\n",
    "    print('Number of Botnet : %d' % (bot.shape[0]))\n",
    "    print('Number of Normal : %d' % (nonbot.shape[0]))\n",
    "    \n",
    "    # missing value filling by mode\n",
    "    df.Sport = df.Sport.fillna(value=df[~(df['Sport'].isnull())].Sport.mode()[0])\n",
    "    df.Dport = df.Dport.fillna(value=df[~(df['Dport'].isnull())].Dport.mode()[0])\n",
    "    df.State = df.State.fillna(value=df[~(df['State'].isnull())].State.mode()[0])\n",
    "    df.sTos = df.sTos.fillna(value=df[~(df['sTos'].isnull())].sTos.mode()[0])\n",
    "    df.dTos = df.dTos.fillna(value=df[~(df['dTos'].isnull())].dTos.mode()[0])\n",
    "    \n",
    "    # StartTime & EndTime to second\n",
    "    con0 = pd.DataFrame(df.StartTime.str.split('/', 3).tolist(), columns = ['year', 'month', 'a'])\n",
    "    con1 = pd.DataFrame(con0.a.str.split(':', 3).tolist(), columns = ['b', 'mins', 'sec'])\n",
    "    con2 = pd.DataFrame(con1.b.str.split(' ', 2).tolist(), columns = ['day', 'hr'])\n",
    "    con2.hr = pd.to_numeric(con2.hr, errors='coerce')\n",
    "    con1.mins = pd.to_numeric(con1.mins, errors='coerce')\n",
    "    con1.sec = pd.to_numeric(con1.sec, errors='coerce')\n",
    "    df[\"StartTime\"] = con2.hr*3600 + con1.mins*60 + con1.sec\n",
    "    \n",
    "    # select row of Sport is 16-bit\n",
    "    con0 = pd.DataFrame(df.Sport.str.split('x',2).tolist(), columns = ['Sport','y'])\n",
    "    Sport_16 = df.iloc[con0[~(con0['y'].isnull())].index,:].reset_index(drop=True)\n",
    "    # 16 to 10\n",
    "    Sport_16_ = Sport_16[[\"Sport\"]]\n",
    "    a=[]\n",
    "    for i in range(Sport_16_.shape[0]):\n",
    "        x = int(Sport_16_.iloc[i,].Sport, 16)\n",
    "        a.append(x)\n",
    "    Sport_10 = pd.DataFrame(a, columns=[\"Sport_10\"])\n",
    "    Sport_16[\"Sport\"] = Sport_10.Sport_10\n",
    "    df = pd.concat([df.iloc[con0[(con0['y'].isnull())].index,:], Sport_16], axis=0).reset_index(drop=True)\n",
    "    del Sport_16\n",
    "    del Sport_16_\n",
    "    \n",
    "    # select row of Dport is 16-bit\n",
    "    con0 = pd.DataFrame(df.Dport.str.split('x',2).tolist(), columns = ['Sport','y'])\n",
    "    Dport_16 = df.iloc[con0[~(con0['y'].isnull())].index,:].reset_index(drop=True)\n",
    "    # 16 to 10\n",
    "    Dport_16_ = Dport_16[[\"Dport\"]]\n",
    "    a=[]\n",
    "    for i in range(Dport_16_.shape[0]):\n",
    "        x = int(Dport_16_.iloc[i,].Dport, 16)\n",
    "        a.append(x)\n",
    "    Dport_10 = pd.DataFrame(a, columns=[\"Dport_10\"])\n",
    "    Dport_16[\"Dport\"] = Dport_10.Dport_10\n",
    "    df = pd.concat([df.iloc[con0[(con0['y'].isnull())].index,:], Dport_16], axis=0).reset_index(drop=True)\n",
    "    del Dport_16\n",
    "    del Dport_16_\n",
    "    df = df.sort_values(by=[\"StartTime\"]).reset_index(drop=True)\n",
    "    return df"
   ]
  },
  {
   "cell_type": "code",
   "execution_count": 7,
   "metadata": {
    "scrolled": false
   },
   "outputs": [
    {
     "name": "stdout",
     "output_type": "stream",
     "text": [
      "Number of Botnet : 40961\n",
      "Number of Normal : 2783675\n"
     ]
    }
   ],
   "source": [
    "con_normal = (df_10.SrcAddr != \"147.32.84.165\")\n",
    "df_10_new = preprocessing(df_10, con_normal)"
   ]
  },
  {
   "cell_type": "code",
   "execution_count": 8,
   "metadata": {},
   "outputs": [
    {
     "data": {
      "text/plain": [
       "StartTime            35213\n",
       "Dur                3550.18\n",
       "Proto                  udp\n",
       "SrcAddr      212.50.71.179\n",
       "Sport                39678\n",
       "Dir                    <->\n",
       "DstAddr      147.32.84.229\n",
       "Dport                13363\n",
       "State                  CON\n",
       "sTos                     0\n",
       "dTos                     0\n",
       "TotPkts                 12\n",
       "TotBytes               875\n",
       "SrcBytes               413\n",
       "label                    0\n",
       "Name: 0, dtype: object"
      ]
     },
     "execution_count": 8,
     "metadata": {},
     "output_type": "execute_result"
    }
   ],
   "source": [
    "df_10_new.iloc[0, :]"
   ]
  },
  {
   "cell_type": "code",
   "execution_count": 8,
   "metadata": {
    "collapsed": true
   },
   "outputs": [],
   "source": [
    "df_10_new.to_csv(\"20110810_preprocessing.txt\", index=False)"
   ]
  },
  {
   "cell_type": "markdown",
   "metadata": {},
   "source": [
    "4. fillna by mode\n",
    "1. StartTime convert to sencond\n",
    "2. Sport and Dport which contain 16-bit convert to 10-bit\n",
    "3. label dataset by botnet IP_address"
   ]
  },
  {
   "cell_type": "code",
   "execution_count": 9,
   "metadata": {},
   "outputs": [
    {
     "name": "stdout",
     "output_type": "stream",
     "text": [
      "StartTime         0\n",
      "Dur               0\n",
      "Proto             0\n",
      "SrcAddr           0\n",
      "Sport          3993\n",
      "Dir               0\n",
      "DstAddr           0\n",
      "Dport          2973\n",
      "State             0\n",
      "sTos           4324\n",
      "dTos         269835\n",
      "TotPkts           0\n",
      "TotBytes          0\n",
      "SrcBytes          0\n",
      "Label             0\n",
      "dtype: int64\n",
      "Number of Original Dataset : 1808122\n",
      "Number of Drop NaN         : 1534307\n",
      "Number of Botnet : 20941\n",
      "Number of Normal : 1787181\n"
     ]
    }
   ],
   "source": [
    "path_11 = \"capture20110811.binetflow.txt\"\n",
    "df_11 = loadingdata(path_11)\n",
    "\n",
    "con_normal = (df_11.SrcAddr != \"147.32.84.165\")\n",
    "df_11_new = preprocessing(df_11, con_normal)\n",
    "\n",
    "df_11_new.to_csv(\"20110811_preprocessing.txt\", index=False)"
   ]
  },
  {
   "cell_type": "code",
   "execution_count": 10,
   "metadata": {},
   "outputs": [
    {
     "name": "stdout",
     "output_type": "stream",
     "text": [
      "StartTime        0\n",
      "Dur              0\n",
      "Proto            0\n",
      "SrcAddr          0\n",
      "Sport         1812\n",
      "Dir              0\n",
      "DstAddr          0\n",
      "Dport          837\n",
      "State            0\n",
      "sTos          2059\n",
      "dTos         28267\n",
      "TotPkts          0\n",
      "TotBytes         0\n",
      "SrcBytes         0\n",
      "Label            0\n",
      "dtype: int64\n",
      "Number of Original Dataset : 325471\n",
      "Number of Drop NaN         : 295270\n",
      "Number of Botnet : 2143\n",
      "Number of Normal : 323328\n"
     ]
    }
   ],
   "source": [
    "path_19 = \"capture20110819.binetflow.txt\"\n",
    "df_19 = loadingdata(path_19)\n",
    "\n",
    "con_normal = (df_19.SrcAddr != \"147.32.84.165\") & (df_19.SrcAddr != \"147.32.84.191\") & (df_19.SrcAddr != \"147.32.84.192\") \n",
    "df_19_new = preprocessing(df_19, con_normal)\n",
    "df_19_new.to_csv(\"20110819_preprocessing.txt\", index=False)"
   ]
  },
  {
   "cell_type": "code",
   "execution_count": null,
   "metadata": {
    "collapsed": true
   },
   "outputs": [],
   "source": []
  }
 ],
 "metadata": {
  "kernelspec": {
   "display_name": "Python 3",
   "language": "python",
   "name": "python3"
  },
  "language_info": {
   "codemirror_mode": {
    "name": "ipython",
    "version": 3
   },
   "file_extension": ".py",
   "mimetype": "text/x-python",
   "name": "python",
   "nbconvert_exporter": "python",
   "pygments_lexer": "ipython3",
   "version": "3.6.4"
  }
 },
 "nbformat": 4,
 "nbformat_minor": 2
}
